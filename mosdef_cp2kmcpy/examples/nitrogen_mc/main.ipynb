{
 "cells": [
  {
   "cell_type": "code",
   "execution_count": 1,
   "metadata": {},
   "outputs": [],
   "source": [
    "import warnings\n",
    "warnings.filterwarnings(\"ignore\", category=DeprecationWarning)"
   ]
  },
  {
   "cell_type": "markdown",
   "metadata": {},
   "source": [
    "## Loading modules"
   ]
  },
  {
   "cell_type": "code",
   "execution_count": 2,
   "metadata": {},
   "outputs": [],
   "source": [
    "import mbuild as mb\n",
    "import foyer\n",
    "from foyer import Forcefield\n",
    "\n",
    "import mbuild.formats.charmm_writer as mf_charmm\n",
    "\n",
    "import mosdef_cp2k_writer\n",
    "\n",
    "\n",
    "import parmed as pmd\n",
    "from constrainmol import ConstrainedMolecule\n",
    "import unyt as u\n",
    "\n",
    "from mosdef_cp2kmcpy.mc import MC\n",
    "import setter\n",
    "warnings.filterwarnings(\"ignore\", category=DeprecationWarning)\n",
    " "
   ]
  },
  {
   "cell_type": "markdown",
   "metadata": {},
   "source": [
    "## The forcefield file"
   ]
  },
  {
   "cell_type": "code",
   "execution_count": 3,
   "metadata": {
    "scrolled": true
   },
   "outputs": [
    {
     "name": "stdout",
     "output_type": "stream",
     "text": [
      "<ForceField>\r\n",
      "    <AtomTypes>\r\n",
      "        <Type name=\"N\" def=\"[N;X1](N)\"\r\n",
      "              class=\"N2\" element=\"N\" mass=\" 14.0067\" desc=\"N in N2\"\r\n",
      "              doi=\"random\" />\r\n",
      "    </AtomTypes>\r\n",
      "    <HarmonicBondForce>\r\n",
      "        <Bond class1=\"N2\" class2=\"N2\" length=\"0.1121\" k=\"650500\"/>\r\n",
      "    </HarmonicBondForce>\r\n",
      "    <HarmonicAngleForce>\r\n",
      "    </HarmonicAngleForce>\r\n",
      "    <RBTorsionForce>\r\n",
      "    </RBTorsionForce>\r\n",
      "    <NonbondedForce coulomb14scale=\"0\" lj14scale=\"0\">\r\n",
      "        <Atom type=\"N\" charge=\"0\" sigma=\"0.32973\" epsilon=\"0.30491436\"/>\r\n",
      "    </NonbondedForce>\r\n",
      "</ForceField>"
     ]
    }
   ],
   "source": [
    "!cat dinitrogen_ff.xml"
   ]
  },
  {
   "cell_type": "markdown",
   "metadata": {},
   "source": [
    "## Defining the molecule\n",
    "\n"
   ]
  },
  {
   "cell_type": "code",
   "execution_count": 4,
   "metadata": {},
   "outputs": [
    {
     "name": "stderr",
     "output_type": "stream",
     "text": [
      "/home/rs/anaconda3/envs/mosdef_cp2k/lib/python3.8/site-packages/foyer/forcefield.py:448: UserWarning: No force field version number found in force field XML file.\n",
      "  warnings.warn(\n",
      "/home/rs/anaconda3/envs/mosdef_cp2k/lib/python3.8/site-packages/foyer/forcefield.py:460: UserWarning: No force field name found in force field XML file.\n",
      "  warnings.warn(\n",
      "/mnt/d/software/MC-workflow/mbuild/mbuild/conversion.py:687: UserWarning: No unitcell detected for pybel.Molecule N#N\t\n",
      "\n",
      "  warn(\"No unitcell detected for pybel.Molecule {}\".format(pybel_mol))\n",
      "/home/rs/anaconda3/envs/mosdef_cp2k/lib/python3.8/site-packages/parmed/openmm/topsystem.py:240: OpenMMWarning: Adding what seems to be Urey-Bradley terms before Angles. This is unexpected, but the parameters will all be present in one form or another.\n",
      "  warnings.warn('Adding what seems to be Urey-Bradley terms before ' # pragma: no cover\n"
     ]
    },
    {
     "name": "stdout",
     "output_type": "stream",
     "text": [
      "[[ 0.09788612 -0.00626626 -0.00349077]\n",
      " [ 0.20998612 -0.00626626 -0.00349077]]\n"
     ]
    }
   ],
   "source": [
    "\n",
    "nitrogen_res_name = 'N2'\n",
    "FF_file_nitrogen = 'dinitrogen_ff.xml'\n",
    "nitrogen_FF = Forcefield(forcefield_files=FF_file_nitrogen)\n",
    "nitrogen_mb = mb.load('N#N', smiles=True)\n",
    "\n",
    "nitrogen_mb.name = nitrogen_res_name\n",
    "\n",
    "nitrogen_typed=nitrogen_FF.apply(nitrogen_mb)\n",
    "\n",
    "\n",
    "\n",
    "constrain_mol = ConstrainedMolecule(nitrogen_typed)\n",
    "constrain_mol.solve()\n",
    "nitrogen_optimized_mb=mb.clone(nitrogen_mb)\n",
    "nitrogen_optimized_mb.xyz=constrain_mol.xyz/10\n",
    "print(nitrogen_optimized_mb.xyz)"
   ]
  },
  {
   "cell_type": "markdown",
   "metadata": {},
   "source": [
    "## Creating .psf (Topology) and .inp (CHARMM potential file) using mosdef_charmm_writer\n"
   ]
  },
  {
   "cell_type": "code",
   "execution_count": 5,
   "metadata": {},
   "outputs": [],
   "source": [
    "#random box to be used in mosdef_charmm_writer\n",
    "nitrogen_box_bias  = mb.fill_box(compound=[nitrogen_optimized_mb ],\n",
    "                             n_compounds=[1] ,\n",
    "                            box=[1.0, 1.0, 1.0] )"
   ]
  },
  {
   "cell_type": "markdown",
   "metadata": {},
   "source": [
    "### mosdef_charmm_writer"
   ]
  },
  {
   "cell_type": "code",
   "execution_count": 6,
   "metadata": {},
   "outputs": [
    {
     "name": "stdout",
     "output_type": "stream",
     "text": [
      "Running: GOMC FF file, and the psf and pdb files for the biasing potential file\n",
      "write_gomcdata: forcefield_selection = {'N2': 'dinitrogen_ff.xml'}, residues = ['N2']\n",
      "******************************\n",
      "\n",
      "GOMC FF writing each residues FF as a group for structure_0\n",
      "forcefield type from compound = {'N2': 'dinitrogen_ff.xml'}\n",
      "coulomb14scale from compound = {'N2': 0.0}\n",
      "lj14scale from compound = {'N2': 0.0}\n",
      "unique_types = ['N_N2']\n",
      "No urey bradley terms detected, will use angle_style harmonic\n",
      "******************************\n",
      "\n",
      "writing the GOMC force field file \n",
      "NBFIX_Mixing not used or no mixing used for the non-bonded potentials out\n",
      "forcefield_dict = {0: 'N_N2'}\n",
      "******************************\n",
      "\n",
      "write_charmm_psf file is running\n",
      "write_charmm_psf: forcefield_selection = {'N2': 'dinitrogen_ff.xml'}, residues = ['N2']\n",
      "******************************\n",
      "\n",
      "No urey bradley terms detected\n",
      "******************************\n",
      "\n",
      "write_charmm_pdb file is running\n",
      "write_charmm_pdb: residues == ['N2']\n",
      "fix_residue = None\n",
      "fix_residue_in_box = None\n",
      "bead_to_atom_name_dict = {}\n",
      "INFORMATION: No atoms are fixed in this pdb file for the GOMC simulation engine. \n",
      "******************************\n",
      "\n"
     ]
    },
    {
     "name": "stderr",
     "output_type": "stream",
     "text": [
      "/home/rs/anaconda3/envs/mosdef_cp2k/lib/python3.8/site-packages/parmed/openmm/topsystem.py:240: OpenMMWarning: Adding what seems to be Urey-Bradley terms before Angles. This is unexpected, but the parameters will all be present in one form or another.\n",
      "  warnings.warn('Adding what seems to be Urey-Bradley terms before ' # pragma: no cover\n"
     ]
    }
   ],
   "source": [
    "FF_Dict = {nitrogen_mb.name:FF_file_nitrogen }\n",
    "\n",
    "residues_List = [nitrogen_mb.name ]\n",
    "\n",
    "\n",
    "\n",
    "\n",
    "nitrogen_box_bias.save(\"nitrogen_bias_coord.xyz\",overwrite=True)\n",
    "\n",
    "print('Running: GOMC FF file, and the psf and pdb files for the biasing potential file')\n",
    "mf_charmm.charmm_psf_psb_FF(nitrogen_box_bias ,\n",
    "                            'nitrogen_bias',\n",
    "                            FF_filename =\"nitrogen_charmm_bias\" ,\n",
    "                            forcefield_selection = FF_Dict,\n",
    "                            residues= residues_List ,\n",
    "                            bead_to_atom_name_dict = {},\n",
    "                            fix_residue = None,\n",
    "                            reorder_res_in_pdb_psf = False\n",
    "                            )\n",
    "\n",
    "! rm *.pdb *.xyz"
   ]
  },
  {
   "cell_type": "markdown",
   "metadata": {},
   "source": [
    "### Now we have the .psf (topology) file and .inp (charmm potential) file\n",
    "\n",
    "## Creating CP2K MC simulation"
   ]
  },
  {
   "cell_type": "code",
   "execution_count": 7,
   "metadata": {},
   "outputs": [],
   "source": [
    "molecule_list=[nitrogen_optimized_mb]\n",
    "box=mb.box.Box(lengths=[1,1,1])\n",
    "#Comment why pressure is needed\n",
    "q=MC(molecule_list=molecule_list,n_box=2,n_molecules_each_box=[[49],[1]], box_list=[box,box],cutoff=200,functional='PBE',\n",
    "     basis_set={'N':'DZVP-MOLOPT-GTH'}, periodicity=['XYZ']*2,ensemble='GEMC_NVT',seed=1,project_name='N2_NVT_GEMC',restart='FALSE',pressure=1*u.bar)"
   ]
  },
  {
   "cell_type": "code",
   "execution_count": 8,
   "metadata": {},
   "outputs": [
    {
     "name": "stdout",
     "output_type": "stream",
     "text": [
      "scf_tolerance not specified, set as 1e-6\n",
      "basis_set_filename not defined, set as BASIS_MOLOPT\n",
      "potential_filename not specified, set as GTH_POTENTIALS\n",
      "n_steps not specified, set as 1000\n",
      "n_ff_moves not specified, set as 8\n",
      "nswapmoves not specified, set as 640, will be ignore if n_box<2\n",
      "output trajectory format set as XYZ\n",
      "input_filename not specified, set as ['GEMC_NVT_box1.inp', 'GEMC_NVT_box2.inp']\n",
      "output_filename not specified, set as N2_NVT_GEMC_mc_output.out\n",
      "temperature not defined, set as 298 K\n",
      "You can change default settings in setter.mc_files\n"
     ]
    }
   ],
   "source": [
    "q.mc_initialization()"
   ]
  },
  {
   "cell_type": "code",
   "execution_count": 9,
   "metadata": {},
   "outputs": [],
   "source": [
    "\n",
    "q.topology_filename=['nitrogen_bias.psf']\n",
    "\n",
    "# move_probabilities=[pmavbmc,pmcltrans,pmhmc,pmswap,pmtraion,pmtrans,pmvolume]\n",
    "#volume moves = PMVOLUME\n",
    "# swap moves = PMSWAP - PMVOLUME\n",
    "# AVBMC moves = PMAVBMC - PMSWAP - PMVOLUME\n",
    "# an “inner” move = 1.0 - (PMAVBMC + PMSWAP + PMVOLUME)\n",
    "#conformational changes = “inner” move percentage × PMTRAION\n",
    "# molecular translation = “inner” move percentage × (PMTRANS - PMTRAION)\n",
    "# molecular rotation = “inner” move percentage × (1.0 - PMTRANS - PMTRAION)\n",
    "\n",
    "q.move_probabilities=[0,0.0,0,0.4,0.5,0.75,0.05]\n",
    "\n",
    "\n",
    "\n",
    "# mol_probabilities=[[PMAVBMC_MOL,PMSWAP_MOL , PMTRAION_MOL, PMTRANS_MOL,PMROT_MOL],[]]\n",
    "q.mol_probabilities=[[[1],[1],[1],[1],[1]],[[1],[1],[1],[1],[1]]]\n",
    "\n",
    "\n",
    "\n",
    "#avbmc probabilities=[[AVBMC_ATOM,AVBMC_RMIN,AVBMC_RMAX,PBIAS],[]]\n",
    "q.avbmc_probabilities=[[[1],[1],[1],[1]],[[1],[1],[1],[1]]]\n",
    "\n",
    "q.charmm_potential_file='nitrogen_charmm_bias.inp'"
   ]
  },
  {
   "cell_type": "code",
   "execution_count": null,
   "metadata": {},
   "outputs": [],
   "source": []
  },
  {
   "cell_type": "code",
   "execution_count": 10,
   "metadata": {},
   "outputs": [
    {
     "name": "stdout",
     "output_type": "stream",
     "text": [
      "MC initial structure saved as ['N2_NVT_GEMC_box1_initial.xyz', 'N2_NVT_GEMC_box2_initial.xyz']\n",
      "MC input file saved as GEMC_NVT_box1.inp\n",
      "MC input file saved as GEMC_NVT_box2.inp\n"
     ]
    }
   ],
   "source": [
    "setter.mc_files(q)"
   ]
  },
  {
   "cell_type": "code",
   "execution_count": 11,
   "metadata": {},
   "outputs": [
    {
     "name": "stdout",
     "output_type": "stream",
     "text": [
      "GEMC_NVT_box1.inp\t      bias_template.inp  nitrogen_charmm_bias.inp\r\n",
      "GEMC_NVT_box2.inp\t      changeLog.out\t old.ipynb\r\n",
      "N2_NVT_GEMC_box1_initial.xyz  dinitrogen_ff.xml  setter.py\r\n",
      "N2_NVT_GEMC_box2_initial.xyz  log.txt\t\t trajectories\r\n",
      "Untitled.ipynb\t\t      md-changeLog.out\r\n",
      "__pycache__\t\t      nitrogen_bias.psf\r\n"
     ]
    }
   ],
   "source": [
    "!ls"
   ]
  },
  {
   "cell_type": "code",
   "execution_count": 2,
   "metadata": {},
   "outputs": [
    {
     "name": "stdout",
     "output_type": "stream",
     "text": [
      " DBCSR| Multiplication driver                                               BLAS\n",
      " DBCSR| Multrec recursion limit                                              512\n",
      " DBCSR| Multiplication stack size                                           1000\n",
      " DBCSR| Maximum elements for images                                    UNLIMITED\n",
      " DBCSR| Multiplicative factor virtual images                                   1\n",
      " DBCSR| Multiplication size stacks                                             3\n",
      " DBCSR| Number of 3D layers                                               SINGLE\n",
      " DBCSR| Use MPI memory allocation                                              T\n",
      " DBCSR| Use RMA algorithm                                                      F\n",
      " DBCSR| Use Communication thread                                               T\n",
      " DBCSR| Communication thread load                                             87\n",
      "\n",
      "\n",
      "  **** **** ******  **  PROGRAM STARTED AT               2022-09-27 14:01:17.001\n",
      " ***** ** ***  *** **   PROGRAM STARTED ON                       LAPTOP-QR0S34C9\n",
      " **    ****   ******    PROGRAM STARTED BY                                    rs\n",
      " ***** **    ** ** **   PROGRAM PROCESS ID                                  1757\n",
      "  **** **  *******  **  PROGRAM STARTED IN /mnt/d/research/software/mosdef_cp2km\n",
      "                                           cpy/mosdef_cp2kmcpy/examples/nitrogen\n",
      "                                           _mc\n",
      "\n",
      " CP2K| version string:                                          CP2K version 6.1\n",
      " CP2K| source code revision number:                                    svn:18464\n",
      " CP2K| cp2kflags: libint fftw3 libxc elpa=201605 elpa_qr parallel mpi3 scalapack\n",
      " CP2K|             libderiv_max_am1=5 libint_max_am=6\n",
      " CP2K| is freely available from                            https://www.cp2k.org/\n",
      " CP2K| Program compiled at                          Sun Mar 22 16:45:27 UTC 2020\n",
      " CP2K| Program compiled on                                       lcy01-amd64-017\n",
      " CP2K| Program compiled for                                Linux-x86_64-gfortran\n",
      " CP2K| Data directory path                                       /usr/share/cp2k\n",
      " CP2K| Input file name                                         GEMC_NVT_box2.inp\n",
      "\n",
      " GLOBAL| Force Environment number                                              1\n",
      " GLOBAL| Basis set file name                                        BASIS_MOLOPT\n",
      " GLOBAL| Potential file name                                      GTH_POTENTIALS\n",
      " GLOBAL| MM Potential file name                                     MM_POTENTIAL\n",
      " GLOBAL| Coordinate file name                                      __STD_INPUT__\n",
      " GLOBAL| Method name                                                        CP2K\n",
      " GLOBAL| Project name                                                N2_NVT_GEMC\n",
      " GLOBAL| Preferred FFT library                                             FFTW3\n",
      " GLOBAL| Preferred diagonalization lib.                                       SL\n",
      " GLOBAL| Run type                                                             MC\n",
      " GLOBAL| All-to-all communication in single precision                          F\n",
      " GLOBAL| FFTs using library dependent lengths                                  F\n",
      " GLOBAL| Global print level                                                  LOW\n",
      " GLOBAL| Total number of message passing processes                             1\n",
      " GLOBAL| Number of threads for this process                                    1\n",
      " GLOBAL| This output is from process                                           0\n",
      " GLOBAL| CPU model name :  Intel(R) Core(TM) i7-8650U CPU @ 1.90GHz\n",
      "\n",
      " MEMORY| system memory details [Kb]\n",
      " MEMORY|                        rank 0           min           max       average\n",
      " MEMORY| MemTotal             16607120      16607120      16607120      16607120\n",
      " MEMORY| MemFree               6240144       6240144       6240144       6240144\n",
      " MEMORY| Buffers                 34032         34032         34032         34032\n",
      " MEMORY| Cached                 188576        188576        188576        188576\n",
      " MEMORY| Slab                    13868         13868         13868         13868\n",
      " MEMORY| SReclaimable             6744          6744          6744          6744\n",
      " MEMORY| MemLikelyFree         6469496       6469496       6469496       6469496\n",
      "\n",
      "\n",
      " *******************************************************************************\n",
      " *   ___                                                                       *\n",
      " *  /   \\                                                                      *\n",
      " * [ABORT]  Unknown element for KIND <A>. This problem can be fixed specifying *\n",
      " *  \\___/  properly elements in PDB or specifying a KIND section or getting in *\n",
      " *    |                     touch with one of  the developers!                 *\n",
      " *  O/|                                                                        *\n",
      " * /| |                                                                        *\n",
      " * / \\                                                    topology_util.F:1271 *\n",
      " *******************************************************************************\n",
      "\n",
      "\n",
      " ===== Routine Calling Stack ===== \n",
      "\n",
      "            4 connectivity_control_check_element_name\n",
      "            3 connectivity_control\n",
      "            2 topology_control\n",
      "            1 CP2K\n",
      "--------------------------------------------------------------------------\n",
      "MPI_ABORT was invoked on rank 0 in communicator MPI_COMM_WORLD\n",
      "with errorcode 1.\n",
      "\n",
      "NOTE: invoking MPI_ABORT causes Open MPI to kill all MPI processes.\n",
      "You may or may not see output from other processes, depending on\n",
      "exactly when Open MPI kills them.\n",
      "--------------------------------------------------------------------------\n"
     ]
    }
   ],
   "source": [
    "!cp2k.popt -i GEMC_NVT_box1.inp -i GEMC_NVT_box2.inp"
   ]
  },
  {
   "cell_type": "code",
   "execution_count": null,
   "metadata": {},
   "outputs": [],
   "source": []
  }
 ],
 "metadata": {
  "kernelspec": {
   "display_name": "Python 3",
   "language": "python",
   "name": "python3"
  },
  "language_info": {
   "codemirror_mode": {
    "name": "ipython",
    "version": 3
   },
   "file_extension": ".py",
   "mimetype": "text/x-python",
   "name": "python",
   "nbconvert_exporter": "python",
   "pygments_lexer": "ipython3",
   "version": "3.8.6"
  }
 },
 "nbformat": 4,
 "nbformat_minor": 4
}
