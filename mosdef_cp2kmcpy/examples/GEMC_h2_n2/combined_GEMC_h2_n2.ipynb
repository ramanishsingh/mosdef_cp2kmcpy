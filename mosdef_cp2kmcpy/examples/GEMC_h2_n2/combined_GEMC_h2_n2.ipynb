{
 "cells": [
  {
   "cell_type": "code",
   "execution_count": 1,
   "metadata": {},
   "outputs": [],
   "source": [
    "import warnings\n",
    "warnings.filterwarnings(\"ignore\", category=DeprecationWarning)"
   ]
  },
  {
   "cell_type": "code",
   "execution_count": 2,
   "metadata": {},
   "outputs": [],
   "source": [
    "import mbuild as mb\n",
    "import foyer\n",
    "from foyer import Forcefield\n",
    "\n",
    "import mbuild.formats.charmm_writer as mf_charmm\n",
    "\n",
    "import mosdef_cp2k_writer\n",
    "\n",
    "\n",
    "import parmed as pmd\n",
    "from constrainmol import ConstrainedMolecule\n",
    "import unyt as u\n",
    "\n",
    "from mosdef_cp2kmcpy.mc import MC\n",
    "import setter\n",
    "warnings.filterwarnings(\"ignore\", category=DeprecationWarning)\n",
    " "
   ]
  },
  {
   "cell_type": "code",
   "execution_count": 3,
   "metadata": {},
   "outputs": [],
   "source": [
    "class O2(mb.Compound): # this class builds an oxygen molecule with a bond-length given in the oxygen2 x coor (nm)\n",
    "    def __init__(self):\n",
    "        super(O2, self).__init__()\n",
    "\n",
    "        oxygen1= mb.Particle(pos=[0.0, 0.0, 0.0], name='O', element = \"O\")\n",
    "        oxygen2= mb.Particle(pos=[0.15, 0.0, 0.0], name='O', element = \"O\")\n",
    "        self.add([oxygen2,oxygen1])\n",
    "        self.add_bond((oxygen2,oxygen1))\n",
    "\n",
    "molecule=O2();"
   ]
  },
  {
   "cell_type": "code",
   "execution_count": 4,
   "metadata": {},
   "outputs": [
    {
     "name": "stdout",
     "output_type": "stream",
     "text": [
      "O\n",
      "O\n",
      "O\n",
      "O\n"
     ]
    }
   ],
   "source": [
    "for particle in molecule.particles():\n",
    "    print(particle.name)\n",
    "    print(particle.element.symbol)"
   ]
  },
  {
   "cell_type": "code",
   "execution_count": 5,
   "metadata": {},
   "outputs": [
    {
     "name": "stderr",
     "output_type": "stream",
     "text": [
      "/home/rs/anaconda3/envs/cp2k_mc/lib/python3.8/site-packages/foyer/forcefield.py:448: UserWarning: No force field version number found in force field XML file.\n",
      "  warnings.warn(\n",
      "/home/rs/anaconda3/envs/cp2k_mc/lib/python3.8/site-packages/foyer/forcefield.py:460: UserWarning: No force field name found in force field XML file.\n",
      "  warnings.warn(\n",
      "/mnt/d/software/MC-workflow/mbuild/mbuild/conversion.py:687: UserWarning: No unitcell detected for pybel.Molecule [H][H]\t\n",
      "\n",
      "  warn(\"No unitcell detected for pybel.Molecule {}\".format(pybel_mol))\n",
      "/home/rs/anaconda3/envs/cp2k_mc/lib/python3.8/site-packages/parmed/openmm/topsystem.py:236: OpenMMWarning: Adding what seems to be Urey-Bradley terms before Angles. This is unexpected, but the parameters will all be present in one form or another.\n",
      "  warnings.warn('Adding what seems to be Urey-Bradley terms before ' # pragma: no cover\n"
     ]
    },
    {
     "name": "stdout",
     "output_type": "stream",
     "text": [
      "[[ 0.09864176 -0.00149139  0.00766917]\n",
      " [ 0.17274176 -0.00149139  0.00766917]]\n"
     ]
    }
   ],
   "source": [
    "\n",
    "hydrogen_res_name = 'H2'\n",
    "FF_file_hydrogen = 'h2_ff.xml'\n",
    "hydrogen_FF = Forcefield(forcefield_files=FF_file_hydrogen)\n",
    "hydrogen_mb = mb.load('[HH]', smiles=True)\n",
    "\n",
    "hydrogen_mb.name = hydrogen_res_name\n",
    "\n",
    "hydrogen_typed=hydrogen_FF.apply(hydrogen_mb)\n",
    "\n",
    "\n",
    "\n",
    "constrain_mol = ConstrainedMolecule(hydrogen_typed)\n",
    "constrain_mol.solve()\n",
    "hydrogen_optimized_mb=mb.clone(hydrogen_mb)\n",
    "hydrogen_optimized_mb.xyz=constrain_mol.xyz/10\n",
    "print(hydrogen_optimized_mb.xyz)"
   ]
  },
  {
   "cell_type": "code",
   "execution_count": 6,
   "metadata": {},
   "outputs": [
    {
     "data": {
      "application/3dmoljs_load.v0": "<div id=\"3dmolviewer_16648184360493248\"  style=\"position: relative; width: 640px; height: 480px\">\n        <p id=\"3dmolwarning_16648184360493248\" style=\"background-color:#ffcccc;color:black\">You appear to be running in JupyterLab (or JavaScript failed to load for some other reason).  You need to install the 3dmol extension: <br>\n        <tt>jupyter labextension install jupyterlab_3dmol</tt></p>\n        </div>\n<script>\n\nvar loadScriptAsync = function(uri){\n  return new Promise((resolve, reject) => {\n    var tag = document.createElement('script');\n    tag.src = uri;\n    tag.async = true;\n    tag.onload = () => {\n      resolve();\n    };\n  var firstScriptTag = document.getElementsByTagName('script')[0];\n  firstScriptTag.parentNode.insertBefore(tag, firstScriptTag);\n});\n};\n\nif(typeof $3Dmolpromise === 'undefined') {\n$3Dmolpromise = null;\n  $3Dmolpromise = loadScriptAsync('https://3dmol.csb.pitt.edu/build/3Dmol.js');\n}\n\nvar viewer_16648184360493248 = null;\nvar warn = document.getElementById(\"3dmolwarning_16648184360493248\");\nif(warn) {\n    warn.parentNode.removeChild(warn);\n}\n$3Dmolpromise.then(function() {\nviewer_16648184360493248 = $3Dmol.createViewer($(\"#3dmolviewer_16648184360493248\"),{backgroundColor:\"white\"});\n\tviewer_16648184360493248.addModel(\"@<TRIPOS>MOLECULE\\nRES\\n2 1 1 0 1\\nSMALL\\nNO_CHARGES\\n@<TRIPOS>CRYSIN\\n    5.7410     5.0000     5.0000    90.0000    90.0000    90.0000  1  1\\n@<TRIPOS>ATOM\\n       1 H            0.9864    -0.0149     0.0767 H             1 RES     \\n       2 H            1.7274    -0.0149     0.0767 H             1 RES     \\n@<TRIPOS>BOND\\n       1        1        2 1\\n@<TRIPOS>SUBSTRUCTURE\\n       1 RES             1 RESIDUE    0 **** ROOT      0\\n\",\"mol2\");\n\tviewer_16648184360493248.setStyle({\"stick\": {\"radius\": 0.2, \"color\": \"grey\"}, \"sphere\": {\"scale\": 0.3, \"colorscheme\": {}}});\n\tviewer_16648184360493248.zoomTo();\nviewer_16648184360493248.render();\n});\n</script>",
      "text/html": [
       "<div id=\"3dmolviewer_16648184360493248\"  style=\"position: relative; width: 640px; height: 480px\">\n",
       "        <p id=\"3dmolwarning_16648184360493248\" style=\"background-color:#ffcccc;color:black\">You appear to be running in JupyterLab (or JavaScript failed to load for some other reason).  You need to install the 3dmol extension: <br>\n",
       "        <tt>jupyter labextension install jupyterlab_3dmol</tt></p>\n",
       "        </div>\n",
       "<script>\n",
       "\n",
       "var loadScriptAsync = function(uri){\n",
       "  return new Promise((resolve, reject) => {\n",
       "    var tag = document.createElement('script');\n",
       "    tag.src = uri;\n",
       "    tag.async = true;\n",
       "    tag.onload = () => {\n",
       "      resolve();\n",
       "    };\n",
       "  var firstScriptTag = document.getElementsByTagName('script')[0];\n",
       "  firstScriptTag.parentNode.insertBefore(tag, firstScriptTag);\n",
       "});\n",
       "};\n",
       "\n",
       "if(typeof $3Dmolpromise === 'undefined') {\n",
       "$3Dmolpromise = null;\n",
       "  $3Dmolpromise = loadScriptAsync('https://3dmol.csb.pitt.edu/build/3Dmol.js');\n",
       "}\n",
       "\n",
       "var viewer_16648184360493248 = null;\n",
       "var warn = document.getElementById(\"3dmolwarning_16648184360493248\");\n",
       "if(warn) {\n",
       "    warn.parentNode.removeChild(warn);\n",
       "}\n",
       "$3Dmolpromise.then(function() {\n",
       "viewer_16648184360493248 = $3Dmol.createViewer($(\"#3dmolviewer_16648184360493248\"),{backgroundColor:\"white\"});\n",
       "\tviewer_16648184360493248.addModel(\"@<TRIPOS>MOLECULE\\nRES\\n2 1 1 0 1\\nSMALL\\nNO_CHARGES\\n@<TRIPOS>CRYSIN\\n    5.7410     5.0000     5.0000    90.0000    90.0000    90.0000  1  1\\n@<TRIPOS>ATOM\\n       1 H            0.9864    -0.0149     0.0767 H             1 RES     \\n       2 H            1.7274    -0.0149     0.0767 H             1 RES     \\n@<TRIPOS>BOND\\n       1        1        2 1\\n@<TRIPOS>SUBSTRUCTURE\\n       1 RES             1 RESIDUE    0 **** ROOT      0\\n\",\"mol2\");\n",
       "\tviewer_16648184360493248.setStyle({\"stick\": {\"radius\": 0.2, \"color\": \"grey\"}, \"sphere\": {\"scale\": 0.3, \"colorscheme\": {}}});\n",
       "\tviewer_16648184360493248.zoomTo();\n",
       "viewer_16648184360493248.render();\n",
       "});\n",
       "</script>"
      ]
     },
     "metadata": {},
     "output_type": "display_data"
    },
    {
     "data": {
      "text/plain": [
       "<py3Dmol.view at 0x7fa4f4a84d30>"
      ]
     },
     "execution_count": 6,
     "metadata": {},
     "output_type": "execute_result"
    }
   ],
   "source": [
    "hydrogen_optimized_mb.visualize()"
   ]
  },
  {
   "cell_type": "code",
   "execution_count": 7,
   "metadata": {},
   "outputs": [],
   "source": [
    "for particle in hydrogen_optimized_mb.particles():\n",
    "    particle.name = \"HH\"\n",
    "    particle.element = \"H\""
   ]
  },
  {
   "cell_type": "code",
   "execution_count": 8,
   "metadata": {},
   "outputs": [
    {
     "name": "stdout",
     "output_type": "stream",
     "text": [
      "HH\n",
      "H\n",
      "HH\n",
      "H\n"
     ]
    }
   ],
   "source": [
    "for particle in hydrogen_optimized_mb.particles():\n",
    "    \n",
    "    print(particle.name)\n",
    "    print(particle.element.symbol)"
   ]
  },
  {
   "cell_type": "code",
   "execution_count": 9,
   "metadata": {},
   "outputs": [
    {
     "name": "stderr",
     "output_type": "stream",
     "text": [
      "/mnt/d/software/MC-workflow/mbuild/mbuild/conversion.py:687: UserWarning: No unitcell detected for pybel.Molecule N#N\t\n",
      "\n",
      "  warn(\"No unitcell detected for pybel.Molecule {}\".format(pybel_mol))\n",
      "/home/rs/anaconda3/envs/cp2k_mc/lib/python3.8/site-packages/parmed/openmm/topsystem.py:236: OpenMMWarning: Adding what seems to be Urey-Bradley terms before Angles. This is unexpected, but the parameters will all be present in one form or another.\n",
      "  warnings.warn('Adding what seems to be Urey-Bradley terms before ' # pragma: no cover\n"
     ]
    },
    {
     "name": "stdout",
     "output_type": "stream",
     "text": [
      "[[ 0.10526547  0.00909225 -0.00414265]\n",
      " [ 0.21736547  0.00909225 -0.00414265]]\n"
     ]
    }
   ],
   "source": [
    "\n",
    "nitrogen_res_name = 'N2'\n",
    "FF_file_nitrogen = 'dinitrogen_ff.xml'\n",
    "nitrogen_FF = Forcefield(forcefield_files=FF_file_nitrogen)\n",
    "nitrogen_mb = mb.load('N#N', smiles=True)\n",
    "\n",
    "nitrogen_mb.name = nitrogen_res_name\n",
    "\n",
    "nitrogen_typed=nitrogen_FF.apply(nitrogen_mb)\n",
    "\n",
    "\n",
    "\n",
    "constrain_mol = ConstrainedMolecule(nitrogen_typed)\n",
    "constrain_mol.solve()\n",
    "nitrogen_optimized_mb=mb.clone(nitrogen_mb)\n",
    "nitrogen_optimized_mb.xyz=constrain_mol.xyz/10\n",
    "print(nitrogen_optimized_mb.xyz)"
   ]
  },
  {
   "cell_type": "code",
   "execution_count": 10,
   "metadata": {},
   "outputs": [
    {
     "data": {
      "application/3dmoljs_load.v0": "<div id=\"3dmolviewer_1664818436281446\"  style=\"position: relative; width: 640px; height: 480px\">\n        <p id=\"3dmolwarning_1664818436281446\" style=\"background-color:#ffcccc;color:black\">You appear to be running in JupyterLab (or JavaScript failed to load for some other reason).  You need to install the 3dmol extension: <br>\n        <tt>jupyter labextension install jupyterlab_3dmol</tt></p>\n        </div>\n<script>\n\nvar loadScriptAsync = function(uri){\n  return new Promise((resolve, reject) => {\n    var tag = document.createElement('script');\n    tag.src = uri;\n    tag.async = true;\n    tag.onload = () => {\n      resolve();\n    };\n  var firstScriptTag = document.getElementsByTagName('script')[0];\n  firstScriptTag.parentNode.insertBefore(tag, firstScriptTag);\n});\n};\n\nif(typeof $3Dmolpromise === 'undefined') {\n$3Dmolpromise = null;\n  $3Dmolpromise = loadScriptAsync('https://3dmol.csb.pitt.edu/build/3Dmol.js');\n}\n\nvar viewer_1664818436281446 = null;\nvar warn = document.getElementById(\"3dmolwarning_1664818436281446\");\nif(warn) {\n    warn.parentNode.removeChild(warn);\n}\n$3Dmolpromise.then(function() {\nviewer_1664818436281446 = $3Dmol.createViewer($(\"#3dmolviewer_1664818436281446\"),{backgroundColor:\"white\"});\n\tviewer_1664818436281446.addModel(\"@<TRIPOS>MOLECULE\\nRES\\n2 1 1 0 1\\nSMALL\\nNO_CHARGES\\n@<TRIPOS>CRYSIN\\n    6.1210     5.0000     5.0000    90.0000    90.0000    90.0000  1  1\\n@<TRIPOS>ATOM\\n       1 N            1.0527     0.0909    -0.0414 N             1 RES     \\n       2 N            2.1737     0.0909    -0.0414 N             1 RES     \\n@<TRIPOS>BOND\\n       1        1        2 1\\n@<TRIPOS>SUBSTRUCTURE\\n       1 RES             1 RESIDUE    0 **** ROOT      0\\n\",\"mol2\");\n\tviewer_1664818436281446.setStyle({\"stick\": {\"radius\": 0.2, \"color\": \"grey\"}, \"sphere\": {\"scale\": 0.3, \"colorscheme\": {}}});\n\tviewer_1664818436281446.zoomTo();\nviewer_1664818436281446.render();\n});\n</script>",
      "text/html": [
       "<div id=\"3dmolviewer_1664818436281446\"  style=\"position: relative; width: 640px; height: 480px\">\n",
       "        <p id=\"3dmolwarning_1664818436281446\" style=\"background-color:#ffcccc;color:black\">You appear to be running in JupyterLab (or JavaScript failed to load for some other reason).  You need to install the 3dmol extension: <br>\n",
       "        <tt>jupyter labextension install jupyterlab_3dmol</tt></p>\n",
       "        </div>\n",
       "<script>\n",
       "\n",
       "var loadScriptAsync = function(uri){\n",
       "  return new Promise((resolve, reject) => {\n",
       "    var tag = document.createElement('script');\n",
       "    tag.src = uri;\n",
       "    tag.async = true;\n",
       "    tag.onload = () => {\n",
       "      resolve();\n",
       "    };\n",
       "  var firstScriptTag = document.getElementsByTagName('script')[0];\n",
       "  firstScriptTag.parentNode.insertBefore(tag, firstScriptTag);\n",
       "});\n",
       "};\n",
       "\n",
       "if(typeof $3Dmolpromise === 'undefined') {\n",
       "$3Dmolpromise = null;\n",
       "  $3Dmolpromise = loadScriptAsync('https://3dmol.csb.pitt.edu/build/3Dmol.js');\n",
       "}\n",
       "\n",
       "var viewer_1664818436281446 = null;\n",
       "var warn = document.getElementById(\"3dmolwarning_1664818436281446\");\n",
       "if(warn) {\n",
       "    warn.parentNode.removeChild(warn);\n",
       "}\n",
       "$3Dmolpromise.then(function() {\n",
       "viewer_1664818436281446 = $3Dmol.createViewer($(\"#3dmolviewer_1664818436281446\"),{backgroundColor:\"white\"});\n",
       "\tviewer_1664818436281446.addModel(\"@<TRIPOS>MOLECULE\\nRES\\n2 1 1 0 1\\nSMALL\\nNO_CHARGES\\n@<TRIPOS>CRYSIN\\n    6.1210     5.0000     5.0000    90.0000    90.0000    90.0000  1  1\\n@<TRIPOS>ATOM\\n       1 N            1.0527     0.0909    -0.0414 N             1 RES     \\n       2 N            2.1737     0.0909    -0.0414 N             1 RES     \\n@<TRIPOS>BOND\\n       1        1        2 1\\n@<TRIPOS>SUBSTRUCTURE\\n       1 RES             1 RESIDUE    0 **** ROOT      0\\n\",\"mol2\");\n",
       "\tviewer_1664818436281446.setStyle({\"stick\": {\"radius\": 0.2, \"color\": \"grey\"}, \"sphere\": {\"scale\": 0.3, \"colorscheme\": {}}});\n",
       "\tviewer_1664818436281446.zoomTo();\n",
       "viewer_1664818436281446.render();\n",
       "});\n",
       "</script>"
      ]
     },
     "metadata": {},
     "output_type": "display_data"
    },
    {
     "data": {
      "text/plain": [
       "<py3Dmol.view at 0x7fa4f4a84220>"
      ]
     },
     "execution_count": 10,
     "metadata": {},
     "output_type": "execute_result"
    }
   ],
   "source": [
    "nitrogen_optimized_mb.visualize()"
   ]
  },
  {
   "cell_type": "code",
   "execution_count": 11,
   "metadata": {},
   "outputs": [
    {
     "name": "stdout",
     "output_type": "stream",
     "text": [
      "NN\n",
      "N\n",
      "NN\n",
      "N\n"
     ]
    }
   ],
   "source": [
    "for particle in nitrogen_optimized_mb.particles():\n",
    "    particle.name = \"NN\"\n",
    "    particle.element = \"N\"\n",
    "    print(particle.name)\n",
    "    print(particle.element.symbol)"
   ]
  },
  {
   "cell_type": "code",
   "execution_count": null,
   "metadata": {},
   "outputs": [],
   "source": []
  },
  {
   "cell_type": "markdown",
   "metadata": {},
   "source": [
    "## Creating .psf (Topology) and .inp (CHARMM potential file) using mosdef_charmm_writer\n"
   ]
  },
  {
   "cell_type": "code",
   "execution_count": 19,
   "metadata": {},
   "outputs": [
    {
     "name": "stderr",
     "output_type": "stream",
     "text": [
      "/mnt/d/software/MC-workflow/mbuild/mbuild/conversion.py:970: UserWarning: Guessing that \"<HH pos=( 0.0986,-0.0015, 0.0077), 0 bonds, id: 140346456032448>\" is element: \"H\"\n",
      "  warn(\n",
      "/mnt/d/software/MC-workflow/mbuild/mbuild/conversion.py:970: UserWarning: Guessing that \"<NN pos=( 0.1053, 0.0091,-0.0041), 0 bonds, id: 140347864938528>\" is element: \"N\"\n",
      "  warn(\n"
     ]
    }
   ],
   "source": [
    "#random box to be used in mosdef_charmm_writer\n",
    "hydrogen_box_bias  = mb.fill_box(compound=[hydrogen_optimized_mb ],\n",
    "                             n_compounds=[1] ,\n",
    "                            box=[1.0, 1.0, 1.0] )\n",
    "\n",
    "nitrogen_box_bias  = mb.fill_box(compound=[nitrogen_optimized_mb ],\n",
    "                             n_compounds=[1] ,\n",
    "                            box=[1.0, 1.0, 1.0] )"
   ]
  },
  {
   "cell_type": "code",
   "execution_count": 20,
   "metadata": {},
   "outputs": [
    {
     "name": "stderr",
     "output_type": "stream",
     "text": [
      "/mnt/d/software/MC-workflow/mbuild/mbuild/conversion.py:970: UserWarning: Guessing that \"<NN pos=( 0.0001, 0.0383, 0.7949), 0 bonds, id: 140347865224816>\" is element: \"N\"\n",
      "  warn(\n"
     ]
    }
   ],
   "source": [
    "mixed_box  = mb.fill_box(compound=[hydrogen_optimized_mb, nitrogen_box_bias ],\n",
    "                             n_compounds=[1, 1] ,\n",
    "                            box=[1.0, 1.0, 1.0] )"
   ]
  },
  {
   "cell_type": "code",
   "execution_count": null,
   "metadata": {},
   "outputs": [],
   "source": []
  },
  {
   "cell_type": "code",
   "execution_count": 21,
   "metadata": {},
   "outputs": [
    {
     "name": "stdout",
     "output_type": "stream",
     "text": [
      "Running: GOMC FF file, and the psf and pdb files for the biasing potential file\n",
      "write_gomcdata: forcefield_selection = {'H2': 'h2_ff.xml', 'N2': 'dinitrogen_ff.xml'}, residues = ['H2', 'N2']\n",
      "******************************\n",
      "\n",
      "GOMC FF writing each residues FF as a group for structure_0\n",
      "forcefield type from compound = {'H2': 'h2_ff.xml', 'N2': 'dinitrogen_ff.xml'}\n",
      "coulomb14scale from compound = {'H2': 0.0, 'N2': 0.0}\n",
      "lj14scale from compound = {'H2': 0.0, 'N2': 0.0}\n",
      "unique_types = ['H_H2', 'N_N2']\n",
      "No urey bradley terms detected, will use angle_style harmonic\n",
      "******************************\n",
      "\n",
      "writing the GOMC force field file \n",
      "NBFIX_Mixing not used or no mixing used for the non-bonded potentials out\n",
      "forcefield_dict = {0: 'H_H2', 1: 'N_N2'}\n",
      "******************************\n",
      "\n",
      "write_charmm_psf file is running\n",
      "write_charmm_psf: forcefield_selection = {'H2': 'h2_ff.xml', 'N2': 'dinitrogen_ff.xml'}, residues = ['H2', 'N2']\n",
      "******************************\n",
      "\n",
      "No urey bradley terms detected\n",
      "******************************\n",
      "\n",
      "write_charmm_pdb file is running\n",
      "write_charmm_pdb: residues == ['H2', 'N2']\n",
      "fix_residue = None\n",
      "fix_residue_in_box = None\n",
      "bead_to_atom_name_dict = {}\n",
      "INFORMATION: No atoms are fixed in this pdb file for the GOMC simulation engine. \n",
      "******************************\n",
      "\n"
     ]
    },
    {
     "name": "stderr",
     "output_type": "stream",
     "text": [
      "/mnt/d/software/MC-workflow/mbuild/mbuild/conversion.py:970: UserWarning: Guessing that \"<HH pos=( 0.0641, 0.1072, 0.8047), 0 bonds, id: 140347865274016>\" is element: \"H\"\n",
      "  warn(\n",
      "/mnt/d/software/MC-workflow/mbuild/mbuild/conversion.py:970: UserWarning: Guessing that \"<NN pos=( 0.2540, 0.0033, 0.5706), 0 bonds, id: 140347865275840>\" is element: \"N\"\n",
      "  warn(\n",
      "/mnt/d/software/MC-workflow/mbuild/mbuild/conversion.py:970: UserWarning: Guessing that \"<HH pos=( 0.0641, 0.1072, 0.8047), 0 bonds, id: 140347864534560>\" is element: \"H\"\n",
      "  warn(\n",
      "/home/rs/anaconda3/envs/cp2k_mc/lib/python3.8/site-packages/parmed/openmm/topsystem.py:236: OpenMMWarning: Adding what seems to be Urey-Bradley terms before Angles. This is unexpected, but the parameters will all be present in one form or another.\n",
      "  warnings.warn('Adding what seems to be Urey-Bradley terms before ' # pragma: no cover\n",
      "/mnt/d/software/MC-workflow/mbuild/mbuild/conversion.py:970: UserWarning: Guessing that \"<NN pos=( 0.2540, 0.0033, 0.5706), 0 bonds, id: 140347865596352>\" is element: \"N\"\n",
      "  warn(\n",
      "/home/rs/anaconda3/envs/cp2k_mc/lib/python3.8/site-packages/parmed/openmm/topsystem.py:236: OpenMMWarning: Adding what seems to be Urey-Bradley terms before Angles. This is unexpected, but the parameters will all be present in one form or another.\n",
      "  warnings.warn('Adding what seems to be Urey-Bradley terms before ' # pragma: no cover\n"
     ]
    }
   ],
   "source": [
    "FF_Dict = {hydrogen_optimized_mb.name:FF_file_hydrogen, nitrogen_optimized_mb.name:FF_file_nitrogen }\n",
    "\n",
    "residues_List = [hydrogen_optimized_mb.name, nitrogen_optimized_mb.name ]\n",
    "\n",
    "\n",
    "\n",
    "\n",
    "#hydrogen_box_bias.save(\"hydrogen_bias_coord.xyz\",overwrite=True)\n",
    "#nitrogen_box_bias.save(\"nitrogen_bias_coord.xyz\",overwrite=True)\n",
    "\n",
    "print('Running: GOMC FF file, and the psf and pdb files for the biasing potential file')\n",
    "mf_charmm.charmm_psf_psb_FF(mixed_box ,\n",
    "                            'overall_bias',\n",
    "                            FF_filename =\"overall_charmm_bias\" ,\n",
    "                            forcefield_selection = FF_Dict,\n",
    "                            residues= residues_List ,\n",
    "                            bead_to_atom_name_dict = {},\n",
    "                            fix_residue = None,\n",
    "                            reorder_res_in_pdb_psf = False\n",
    "                            )\n",
    "\n",
    "! rm *.pdb *.xyz"
   ]
  },
  {
   "cell_type": "code",
   "execution_count": 22,
   "metadata": {},
   "outputs": [
    {
     "name": "stdout",
     "output_type": "stream",
     "text": [
      "Running: GOMC FF file, and the psf and pdb files for the biasing potential file\n",
      "write_gomcdata: forcefield_selection = {'H2': 'h2_ff.xml'}, residues = ['H2']\n",
      "******************************\n",
      "\n",
      "GOMC FF writing each residues FF as a group for structure_0\n",
      "forcefield type from compound = {'H2': 'h2_ff.xml'}\n",
      "coulomb14scale from compound = {'H2': 0.0}\n",
      "lj14scale from compound = {'H2': 0.0}\n",
      "unique_types = ['H_H2']\n",
      "No urey bradley terms detected, will use angle_style harmonic\n",
      "******************************\n",
      "\n",
      "writing the GOMC force field file \n",
      "NBFIX_Mixing not used or no mixing used for the non-bonded potentials out\n",
      "forcefield_dict = {0: 'H_H2'}\n",
      "******************************\n",
      "\n",
      "write_charmm_psf file is running\n",
      "write_charmm_psf: forcefield_selection = {'H2': 'h2_ff.xml'}, residues = ['H2']\n",
      "******************************\n",
      "\n",
      "No urey bradley terms detected\n",
      "******************************\n",
      "\n",
      "write_charmm_pdb file is running\n",
      "write_charmm_pdb: residues == ['H2']\n",
      "fix_residue = None\n",
      "fix_residue_in_box = None\n",
      "bead_to_atom_name_dict = {}\n",
      "INFORMATION: No atoms are fixed in this pdb file for the GOMC simulation engine. \n",
      "******************************\n",
      "\n",
      "rm: cannot remove '*.xyz': No such file or directory\r\n"
     ]
    },
    {
     "name": "stderr",
     "output_type": "stream",
     "text": [
      "/mnt/d/software/MC-workflow/mbuild/mbuild/conversion.py:970: UserWarning: Guessing that \"<HH pos=( 0.0166, 0.0275, 0.7999), 0 bonds, id: 140347865244048>\" is element: \"H\"\n",
      "  warn(\n",
      "/mnt/d/software/MC-workflow/mbuild/mbuild/conversion.py:970: UserWarning: Guessing that \"<HH pos=( 0.0166, 0.0275, 0.7999), 0 bonds, id: 140347863649488>\" is element: \"H\"\n",
      "  warn(\n",
      "/home/rs/anaconda3/envs/cp2k_mc/lib/python3.8/site-packages/parmed/openmm/topsystem.py:236: OpenMMWarning: Adding what seems to be Urey-Bradley terms before Angles. This is unexpected, but the parameters will all be present in one form or another.\n",
      "  warnings.warn('Adding what seems to be Urey-Bradley terms before ' # pragma: no cover\n"
     ]
    }
   ],
   "source": [
    "FF_Dict = {hydrogen_optimized_mb.name:FF_file_hydrogen }\n",
    "\n",
    "residues_List = [hydrogen_optimized_mb.name ]\n",
    "\n",
    "\n",
    "\n",
    "\n",
    "#hydrogen_box_bias.save(\"hydrogen_bias_coord.xyz\",overwrite=True)\n",
    "#nitrogen_box_bias.save(\"nitrogen_bias_coord.xyz\",overwrite=True)\n",
    "\n",
    "print('Running: GOMC FF file, and the psf and pdb files for the biasing potential file')\n",
    "mf_charmm.charmm_psf_psb_FF(hydrogen_box_bias ,\n",
    "                            'hydrogen_bias',\n",
    "                            FF_filename =\"hydrogen_charmm_bias\" ,\n",
    "                            forcefield_selection = FF_Dict,\n",
    "                            residues= residues_List ,\n",
    "                            bead_to_atom_name_dict = {},\n",
    "                            fix_residue = None,\n",
    "                            reorder_res_in_pdb_psf = False\n",
    "                            )\n",
    "\n",
    "! rm *.pdb *.xyz"
   ]
  },
  {
   "cell_type": "code",
   "execution_count": 23,
   "metadata": {},
   "outputs": [
    {
     "name": "stdout",
     "output_type": "stream",
     "text": [
      "Running: GOMC FF file, and the psf and pdb files for the biasing potential file\n",
      "write_gomcdata: forcefield_selection = {'N2': 'dinitrogen_ff.xml'}, residues = ['N2']\n",
      "******************************\n",
      "\n",
      "GOMC FF writing each residues FF as a group for structure_0\n",
      "forcefield type from compound = {'N2': 'dinitrogen_ff.xml'}\n",
      "coulomb14scale from compound = {'N2': 0.0}\n",
      "lj14scale from compound = {'N2': 0.0}\n",
      "unique_types = ['N_N2']\n",
      "No urey bradley terms detected, will use angle_style harmonic\n",
      "******************************\n",
      "\n",
      "writing the GOMC force field file \n",
      "NBFIX_Mixing not used or no mixing used for the non-bonded potentials out\n",
      "forcefield_dict = {0: 'N_N2'}\n",
      "******************************\n",
      "\n",
      "write_charmm_psf file is running\n",
      "write_charmm_psf: forcefield_selection = {'N2': 'dinitrogen_ff.xml'}, residues = ['N2']\n",
      "******************************\n",
      "\n",
      "No urey bradley terms detected\n",
      "******************************\n",
      "\n",
      "write_charmm_pdb file is running\n",
      "write_charmm_pdb: residues == ['N2']\n",
      "fix_residue = None\n",
      "fix_residue_in_box = None\n",
      "bead_to_atom_name_dict = {}\n",
      "INFORMATION: No atoms are fixed in this pdb file for the GOMC simulation engine. \n",
      "******************************\n",
      "\n",
      "rm: cannot remove '*.xyz': No such file or directory\r\n"
     ]
    },
    {
     "name": "stderr",
     "output_type": "stream",
     "text": [
      "/mnt/d/software/MC-workflow/mbuild/mbuild/conversion.py:970: UserWarning: Guessing that \"<NN pos=( 0.0001, 0.0383, 0.7949), 0 bonds, id: 140347863855504>\" is element: \"N\"\n",
      "  warn(\n",
      "/home/rs/anaconda3/envs/cp2k_mc/lib/python3.8/site-packages/parmed/openmm/topsystem.py:236: OpenMMWarning: Adding what seems to be Urey-Bradley terms before Angles. This is unexpected, but the parameters will all be present in one form or another.\n",
      "  warnings.warn('Adding what seems to be Urey-Bradley terms before ' # pragma: no cover\n"
     ]
    }
   ],
   "source": [
    "FF_Dict = { nitrogen_optimized_mb.name:FF_file_nitrogen }\n",
    "\n",
    "residues_List = [nitrogen_optimized_mb.name ]\n",
    "\n",
    "\n",
    "\n",
    "\n",
    "#hydrogen_box_bias.save(\"hydrogen_bias_coord.xyz\",overwrite=True)\n",
    "#nitrogen_box_bias.save(\"nitrogen_bias_coord.xyz\",overwrite=True)\n",
    "\n",
    "print('Running: GOMC FF file, and the psf and pdb files for the biasing potential file')\n",
    "mf_charmm.charmm_psf_psb_FF(nitrogen_box_bias ,\n",
    "                            'nitrogen_bias',\n",
    "                            FF_filename =\"nitrogen_charmm_bias\" ,\n",
    "                            forcefield_selection = FF_Dict,\n",
    "                            residues= residues_List ,\n",
    "                            bead_to_atom_name_dict = {},\n",
    "                            fix_residue = None,\n",
    "                            reorder_res_in_pdb_psf = False\n",
    "                            )\n",
    "\n",
    "! rm *.pdb *.xyz"
   ]
  },
  {
   "cell_type": "markdown",
   "metadata": {},
   "source": [
    "### Now we have the .psf (topology) file and .inp (charmm potential) file\n",
    "\n",
    "## Creating CP2K MC simulation"
   ]
  },
  {
   "cell_type": "code",
   "execution_count": 12,
   "metadata": {},
   "outputs": [],
   "source": [
    "molecule_list=[hydrogen_optimized_mb, nitrogen_optimized_mb]\n",
    "box=mb.box.Box(lengths=[1,1,1])\n",
    "#Comment why pressure is needed\n"
   ]
  },
  {
   "cell_type": "code",
   "execution_count": 13,
   "metadata": {},
   "outputs": [],
   "source": [
    "q=MC(molecule_list=molecule_list,n_box=2,n_molecules_each_box=[[2,2],[2,2]], box_list=[box,box],cutoff=200,functional='PBE',\n",
    "     basis_set={'NN':'DZVP-MOLOPT-GTH','HH':'DZVP-MOLOPT-GTH'}, periodicity=['XYZ']*2,ensemble='GEMC_NPT',seed=1,project_name='NH3_NPT_GEMC',restart='FALSE',pressure=1*u.bar, use_atom_name_as_symbol = False, initial_coordinate_filename = [\"box1_xyz.xyz\", \"box2_xyz.xyz\"])"
   ]
  },
  {
   "cell_type": "code",
   "execution_count": null,
   "metadata": {},
   "outputs": [],
   "source": []
  },
  {
   "cell_type": "code",
   "execution_count": 14,
   "metadata": {},
   "outputs": [
    {
     "name": "stdout",
     "output_type": "stream",
     "text": [
      "scf_tolerance not specified, set as 1e-6\n",
      "basis_set_filename not defined, set as BASIS_MOLOPT\n",
      "potential_filename not specified, set as GTH_POTENTIALS\n",
      "n_steps not specified, set as 1000\n",
      "n_ff_moves not specified, set as 8\n",
      "nswapmoves not specified, set as 640, will be ignore if n_box<2\n",
      "output trajectory format set as XYZ\n",
      "input_filename not specified, set as ['GEMC_NPT_box1.inp', 'GEMC_NPT_box2.inp']\n",
      "output_filename not specified, set as NH3_NPT_GEMC_mc_output.out\n",
      "temperature not defined, set as 298 K\n",
      "You can change default settings in setter.mc_files\n"
     ]
    }
   ],
   "source": [
    "q.mc_initialization()"
   ]
  },
  {
   "cell_type": "code",
   "execution_count": 15,
   "metadata": {},
   "outputs": [],
   "source": [
    "\n",
    "q.topology_filename=['hydrogen_bias.psf', 'nitrogen_bias.psf']\n",
    "\n",
    "# move_probabilities=[pmavbmc,pmcltrans,pmhmc,pmswap,pmtraion,pmtrans,pmvolume]\n",
    "#volume moves = PMVOLUME\n",
    "# swap moves = PMSWAP - PMVOLUME\n",
    "# AVBMC moves = PMAVBMC - PMSWAP - PMVOLUME\n",
    "# an “inner” move = 1.0 - (PMAVBMC + PMSWAP + PMVOLUME)\n",
    "#conformational changes = “inner” move percentage × PMTRAION\n",
    "# molecular translation = “inner” move percentage × (PMTRANS - PMTRAION)\n",
    "# molecular rotation = “inner” move percentage × (1.0 - PMTRANS - PMTRAION)\n",
    "\n",
    "q.move_probabilities=[0,0.0,0,0.4,0.5,0.75,0.05]\n",
    "\n",
    "\n",
    "\n",
    "# mol_probabilities=[[PMAVBMC_MOL,PMSWAP_MOL , PMTRAION_MOL, PMTRANS_MOL,PMROT_MOL],[]]\n",
    "q.mol_probabilities=[[[1, 1],[1, 1],[1, 1],[1, 1],[1, 1]],[[1, 1],[1, 1],[1, 1],[1, 1],[1, 1]]]\n",
    "\n",
    "\n",
    "\n",
    "#avbmc probabilities=[[AVBMC_ATOM,AVBMC_RMIN,AVBMC_RMAX,PBIAS],[]]\n",
    "q.avbmc_probabilities=[[[1, 1],[1, 1],[1, 1],[1, 1]],[[1, 1],[1, 1],[1, 1],[1, 1]]]\n",
    "\n",
    "q.charmm_potential_file='overall_charmm_bias.inp'"
   ]
  },
  {
   "cell_type": "code",
   "execution_count": null,
   "metadata": {},
   "outputs": [],
   "source": []
  },
  {
   "cell_type": "code",
   "execution_count": 16,
   "metadata": {},
   "outputs": [
    {
     "name": "stdout",
     "output_type": "stream",
     "text": [
      "MC initial structure saved as ['box1_xyz.xyz', 'box2_xyz.xyz']\n",
      "This is ETA [0, 0]\n",
      "MC input file saved as GEMC_NPT_box1.inp\n",
      "This is ETA [0.0, 0]\n",
      "MC input file saved as GEMC_NPT_box2.inp\n",
      "This is ETA [0.0]\n"
     ]
    },
    {
     "name": "stderr",
     "output_type": "stream",
     "text": [
      "/mnt/d/software/MC-workflow/mbuild/mbuild/conversion.py:970: UserWarning: Guessing that \"<HH pos=( 0.8000, 0.6461, 0.4377), 0 bonds, id: 140346456148144>\" is element: \"H\"\n",
      "  warn(\n",
      "/mnt/d/software/MC-workflow/mbuild/mbuild/conversion.py:970: UserWarning: Guessing that \"<NN pos=( 0.4432, 0.7713, 0.0380), 0 bonds, id: 140347864960592>\" is element: \"N\"\n",
      "  warn(\n",
      "/mnt/d/software/MC-workflow/mbuild/mbuild/conversion.py:970: UserWarning: Guessing that \"<HH pos=( 0.2000, 0.6461, 0.4377), 0 bonds, id: 140347864957712>\" is element: \"H\"\n",
      "  warn(\n",
      "/mnt/d/software/MC-workflow/mbuild/mbuild/conversion.py:970: UserWarning: Guessing that \"<NN pos=( 0.3432, 0.7713, 0.0380), 0 bonds, id: 140346476919824>\" is element: \"N\"\n",
      "  warn(\n"
     ]
    }
   ],
   "source": [
    "setter.mc_files(q)"
   ]
  },
  {
   "cell_type": "code",
   "execution_count": 17,
   "metadata": {},
   "outputs": [
    {
     "name": "stdout",
     "output_type": "stream",
     "text": [
      " DBCSR| Multiplication driver                                               BLAS\n",
      " DBCSR| Multrec recursion limit                                              512\n",
      " DBCSR| Multiplication stack size                                           1000\n",
      " DBCSR| Maximum elements for images                                    UNLIMITED\n",
      " DBCSR| Multiplicative factor virtual images                                   1\n",
      " DBCSR| Multiplication size stacks                                             3\n",
      " DBCSR| Number of 3D layers                                               SINGLE\n",
      " DBCSR| Use MPI memory allocation                                              T\n",
      " DBCSR| Use RMA algorithm                                                      F\n",
      " DBCSR| Use Communication thread                                               T\n",
      " DBCSR| Communication thread load                                             87\n",
      "\n",
      "\n",
      "  **** **** ******  **  PROGRAM STARTED AT               2022-10-03 12:34:05.030\n",
      " ***** ** ***  *** **   PROGRAM STARTED ON                       LAPTOP-QR0S34C9\n",
      " **    ****   ******    PROGRAM STARTED BY                                    rs\n",
      " ***** **    ** ** **   PROGRAM PROCESS ID                                   444\n",
      "  **** **  *******  **  PROGRAM STARTED IN /mnt/d/research/software/mosdef_cp2km\n",
      "                                           cpy/mosdef_cp2kmcpy/examples/GEMC_h2_\n",
      "                                           n2\n",
      "\n",
      " CP2K| version string:                                          CP2K version 6.1\n",
      " CP2K| source code revision number:                                    svn:18464\n",
      " CP2K| cp2kflags: libint fftw3 libxc elpa=201605 elpa_qr parallel mpi3 scalapack\n",
      " CP2K|             libderiv_max_am1=5 libint_max_am=6\n",
      " CP2K| is freely available from                            https://www.cp2k.org/\n",
      " CP2K| Program compiled at                          Sun Mar 22 16:45:27 UTC 2020\n",
      " CP2K| Program compiled on                                       lcy01-amd64-017\n",
      " CP2K| Program compiled for                                Linux-x86_64-gfortran\n",
      " CP2K| Data directory path                                       /usr/share/cp2k\n",
      " CP2K| Input file name                                         GEMC_NPT_box2.inp\n",
      "\n",
      " GLOBAL| Force Environment number                                              1\n",
      " GLOBAL| Basis set file name                                        BASIS_MOLOPT\n",
      " GLOBAL| Potential file name                                      GTH_POTENTIALS\n",
      " GLOBAL| MM Potential file name                                     MM_POTENTIAL\n",
      " GLOBAL| Coordinate file name                                      __STD_INPUT__\n",
      " GLOBAL| Method name                                                        CP2K\n",
      " GLOBAL| Project name                                               NH3_NPT_GEMC\n",
      " GLOBAL| Preferred FFT library                                             FFTW3\n",
      " GLOBAL| Preferred diagonalization lib.                                       SL\n",
      " GLOBAL| Run type                                                             MC\n",
      " GLOBAL| All-to-all communication in single precision                          F\n",
      " GLOBAL| FFTs using library dependent lengths                                  F\n",
      " GLOBAL| Global print level                                                  LOW\n",
      " GLOBAL| Total number of message passing processes                             1\n",
      " GLOBAL| Number of threads for this process                                    1\n",
      " GLOBAL| This output is from process                                           0\n",
      " GLOBAL| CPU model name :  Intel(R) Core(TM) i7-8650U CPU @ 1.90GHz\n",
      "\n",
      " MEMORY| system memory details [Kb]\n",
      " MEMORY|                        rank 0           min           max       average\n",
      " MEMORY| MemTotal             16607120      16607120      16607120      16607120\n",
      " MEMORY| MemFree               8026684       8026684       8026684       8026684\n",
      " MEMORY| Buffers                 34032         34032         34032         34032\n",
      " MEMORY| Cached                 188576        188576        188576        188576\n",
      " MEMORY| Slab                    13868         13868         13868         13868\n",
      " MEMORY| SReclaimable             6744          6744          6744          6744\n",
      " MEMORY| MemLikelyFree         8256036       8256036       8256036       8256036\n",
      "\n",
      "\n",
      " *******************************************************************************\n",
      " *   ___                                                                       *\n",
      " *  /   \\                                                                      *\n",
      " * [ABORT]  No &KIND section was possible to associate to the atomic kind <H>. *\n",
      " *  \\___/    The KIND section were also scanned for the corresponding element  *\n",
      " *    |    <H>  and for the DEFAULT section but no match was found. Check your *\n",
      " *  O/|                                 input file!                            *\n",
      " * /| |                                                                        *\n",
      " * / \\                                                    qs_kind_types.F:1458 *\n",
      " *******************************************************************************\n",
      "\n",
      "\n",
      " ===== Routine Calling Stack ===== \n",
      "\n",
      "            3 read_qs_kind\n",
      "            2 create_qs_kind_set\n",
      "            1 CP2K\n",
      "--------------------------------------------------------------------------\n",
      "MPI_ABORT was invoked on rank 0 in communicator MPI_COMM_WORLD\n",
      "with errorcode 1.\n",
      "\n",
      "NOTE: invoking MPI_ABORT causes Open MPI to kill all MPI processes.\n",
      "You may or may not see output from other processes, depending on\n",
      "exactly when Open MPI kills them.\n",
      "--------------------------------------------------------------------------\n"
     ]
    }
   ],
   "source": [
    "!cp2k.popt -i GEMC_NPT_box1.inp -i GEMC_NPT_box2.inp"
   ]
  },
  {
   "cell_type": "code",
   "execution_count": 18,
   "metadata": {},
   "outputs": [
    {
     "name": "stdout",
     "output_type": "stream",
     "text": [
      "/mnt/d/research/software/mosdef_cp2kmcpy/mosdef_cp2kmcpy/examples/GEMC_h2_n2\r\n"
     ]
    }
   ],
   "source": [
    "!pwd"
   ]
  },
  {
   "cell_type": "code",
   "execution_count": null,
   "metadata": {},
   "outputs": [],
   "source": [
    "import ele\n",
    "na = ea\n",
    "le.element_from_symbol(\"Na\")"
   ]
  },
  {
   "cell_type": "code",
   "execution_count": null,
   "metadata": {},
   "outputs": [],
   "source": []
  },
  {
   "cell_type": "code",
   "execution_count": null,
   "metadata": {},
   "outputs": [],
   "source": []
  }
 ],
 "metadata": {
  "kernelspec": {
   "display_name": "Python 3",
   "language": "python",
   "name": "python3"
  },
  "language_info": {
   "codemirror_mode": {
    "name": "ipython",
    "version": 3
   },
   "file_extension": ".py",
   "mimetype": "text/x-python",
   "name": "python",
   "nbconvert_exporter": "python",
   "pygments_lexer": "ipython3",
   "version": "3.8.6"
  }
 },
 "nbformat": 4,
 "nbformat_minor": 4
}
