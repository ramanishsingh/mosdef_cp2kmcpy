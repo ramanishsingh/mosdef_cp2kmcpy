{
 "cells": [
  {
   "cell_type": "code",
   "execution_count": 1,
   "metadata": {},
   "outputs": [
    {
     "name": "stdout",
     "output_type": "stream",
     "text": [
      "/mnt/d/research/software/mosdef_cp2kmcpy/mosdef_cp2kmcpy/examples/GEMC_h2_h2o\r\n"
     ]
    }
   ],
   "source": [
    "!pwd"
   ]
  },
  {
   "cell_type": "code",
   "execution_count": 1,
   "metadata": {},
   "outputs": [],
   "source": [
    "import warnings\n",
    "warnings.filterwarnings(\"ignore\", category=DeprecationWarning)\n",
    "\n",
    "import mbuild as mb\n",
    "import foyer\n",
    "from foyer import Forcefield\n",
    "\n",
    "import mbuild.formats.charmm_writer as mf_charmm\n",
    "\n",
    "import mosdef_cp2k_writer\n",
    "\n",
    "\n",
    "import parmed as pmd\n",
    "from constrainmol import ConstrainedMolecule\n",
    "import unyt as u\n",
    "\n",
    "from mosdef_cp2kmcpy.mc import MC\n",
    "import setter\n",
    "warnings.filterwarnings(\"ignore\", category=DeprecationWarning)\n",
    " "
   ]
  },
  {
   "cell_type": "code",
   "execution_count": 2,
   "metadata": {},
   "outputs": [
    {
     "name": "stderr",
     "output_type": "stream",
     "text": [
      "/home/rs/anaconda3/envs/cp2k_mc/lib/python3.8/site-packages/foyer/forcefield.py:448: UserWarning: No force field version number found in force field XML file.\n",
      "  warnings.warn(\n",
      "/home/rs/anaconda3/envs/cp2k_mc/lib/python3.8/site-packages/foyer/forcefield.py:460: UserWarning: No force field name found in force field XML file.\n",
      "  warnings.warn(\n",
      "/mnt/d/software/MC-workflow/mbuild/mbuild/conversion.py:687: UserWarning: No unitcell detected for pybel.Molecule [H][H]\t\n",
      "\n",
      "  warn(\"No unitcell detected for pybel.Molecule {}\".format(pybel_mol))\n",
      "/mnt/d/software/MC-workflow/mbuild/mbuild/conversion.py:970: UserWarning: Guessing that \"<HH pos=( 0.1015,-0.0038,-0.0091), 0 bonds, id: 140504471747984>\" is element: \"H\"\n",
      "  warn(\n",
      "/home/rs/anaconda3/envs/cp2k_mc/lib/python3.8/site-packages/parmed/openmm/topsystem.py:236: OpenMMWarning: Adding what seems to be Urey-Bradley terms before Angles. This is unexpected, but the parameters will all be present in one form or another.\n",
      "  warnings.warn('Adding what seems to be Urey-Bradley terms before ' # pragma: no cover\n"
     ]
    }
   ],
   "source": [
    "\n",
    "hydrogen_res_name = 'H2'\n",
    "FF_file_hydrogen = 'h2_ff.xml'\n",
    "hydrogen_FF = Forcefield(forcefield_files=FF_file_hydrogen)\n",
    "hydrogen_mb = mb.load('[HH]', smiles=True)\n",
    "for particle in hydrogen_mb.particles():\n",
    "    particle.name = \"HH\"\n",
    "    particle.element = \"H\"\n",
    "    \n",
    "    \n",
    "hydrogen_mb.name = hydrogen_res_name\n",
    "\n",
    "hydrogen_typed=hydrogen_FF.apply(hydrogen_mb)\n",
    "\n",
    "\n",
    "\n",
    "constrain_mol = ConstrainedMolecule(hydrogen_typed)\n",
    "constrain_mol.solve()\n",
    "hydrogen_optimized_mb=mb.clone(hydrogen_mb)\n",
    "hydrogen_optimized_mb.xyz=constrain_mol.xyz/10\n"
   ]
  },
  {
   "cell_type": "code",
   "execution_count": null,
   "metadata": {},
   "outputs": [],
   "source": []
  },
  {
   "cell_type": "code",
   "execution_count": 3,
   "metadata": {},
   "outputs": [
    {
     "data": {
      "text/plain": [
       "'0.10.8'"
      ]
     },
     "execution_count": 3,
     "metadata": {},
     "output_type": "execute_result"
    }
   ],
   "source": [
    "mb.__version__"
   ]
  },
  {
   "cell_type": "code",
   "execution_count": null,
   "metadata": {},
   "outputs": [],
   "source": []
  },
  {
   "cell_type": "code",
   "execution_count": 4,
   "metadata": {},
   "outputs": [
    {
     "name": "stderr",
     "output_type": "stream",
     "text": [
      "/mnt/d/software/MC-workflow/mbuild/mbuild/conversion.py:687: UserWarning: No unitcell detected for pybel.Molecule O\t\n",
      "\n",
      "  warn(\"No unitcell detected for pybel.Molecule {}\".format(pybel_mol))\n"
     ]
    }
   ],
   "source": [
    "\n",
    "water_res_name = 'H2O'\n",
    "FF_file_water = 'water_tip3p.xml'\n",
    "water_FF = Forcefield(forcefield_files=FF_file_water)\n",
    "water_mb = mb.load('O', smiles=True)\n",
    "\n",
    "for particle in water_mb.particles():\n",
    "    \n",
    "    if particle.name == \"O\":\n",
    "        particle.element = \"O\"\n",
    "    else:\n",
    "        particle.element = \"H\"\n",
    "        \n",
    "water_mb.name = water_res_name\n",
    "\n",
    "water_typed=water_FF.apply(water_mb)\n",
    "\n",
    "\n",
    "\n",
    "constrain_mol = ConstrainedMolecule(water_typed)\n",
    "constrain_mol.solve()\n",
    "water_optimized_mb=mb.clone(water_mb)\n",
    "water_optimized_mb.xyz=constrain_mol.xyz/10"
   ]
  },
  {
   "cell_type": "code",
   "execution_count": 5,
   "metadata": {
    "scrolled": true
   },
   "outputs": [
    {
     "name": "stderr",
     "output_type": "stream",
     "text": [
      "/mnt/d/software/MC-workflow/mbuild/mbuild/conversion.py:970: UserWarning: Guessing that \"<HH pos=( 0.0939,-0.0038,-0.0091), 0 bonds, id: 140504451349808>\" is element: \"H\"\n",
      "  warn(\n",
      "/mnt/d/software/MC-workflow/mbuild/mbuild/conversion.py:970: UserWarning: Guessing that \"<HH pos=( 0.0465, 0.0268, 0.7991), 0 bonds, id: 140505726287056>\" is element: \"H\"\n",
      "  warn(\n"
     ]
    },
    {
     "name": "stdout",
     "output_type": "stream",
     "text": [
      "Running: GOMC FF file, and the psf and pdb files for the biasing potential file\n",
      "write_gomcdata: forcefield_selection = {'H2O': 'water_tip3p.xml', 'H2': 'h2_ff.xml'}, residues = ['H2O', 'H2']\n",
      "******************************\n",
      "\n",
      "GOMC FF writing each residues FF as a group for structure_0\n",
      "forcefield type from compound = {'H2O': 'water_tip3p.xml', 'H2': 'h2_ff.xml'}\n",
      "coulomb14scale from compound = {'H2O': 0.5, 'H2': 0.5}\n",
      "lj14scale from compound = {'H2O': 0.5, 'H2': 0.5}\n",
      "unique_types = ['H_H2', 'h_H2O', 'o_H2O']\n",
      "No urey bradley terms detected, will use angle_style harmonic\n",
      "******************************\n",
      "\n",
      "writing the GOMC force field file \n",
      "NBFIX_Mixing not used or no mixing used for the non-bonded potentials out\n",
      "forcefield_dict = {2: 'o_H2O', 1: 'h_H2O', 0: 'H_H2'}\n",
      "******************************\n",
      "\n",
      "write_charmm_psf file is running\n",
      "write_charmm_psf: forcefield_selection = {'H2O': 'water_tip3p.xml', 'H2': 'h2_ff.xml'}, residues = ['H2O', 'H2']\n",
      "******************************\n",
      "\n",
      "No urey bradley terms detected\n",
      "******************************\n",
      "\n",
      "write_charmm_pdb file is running\n",
      "write_charmm_pdb: residues == ['H2O', 'H2']\n",
      "fix_residue = None\n",
      "fix_residue_in_box = None\n",
      "bead_to_atom_name_dict = {}\n",
      "INFORMATION: No atoms are fixed in this pdb file for the GOMC simulation engine. \n",
      "******************************\n",
      "\n"
     ]
    },
    {
     "name": "stderr",
     "output_type": "stream",
     "text": [
      "/mnt/d/software/MC-workflow/mbuild/mbuild/conversion.py:970: UserWarning: Guessing that \"<HH pos=( 0.0465, 0.0268, 0.7991), 0 bonds, id: 140505725587568>\" is element: \"H\"\n",
      "  warn(\n",
      "/home/rs/anaconda3/envs/cp2k_mc/lib/python3.8/site-packages/parmed/openmm/topsystem.py:236: OpenMMWarning: Adding what seems to be Urey-Bradley terms before Angles. This is unexpected, but the parameters will all be present in one form or another.\n",
      "  warnings.warn('Adding what seems to be Urey-Bradley terms before ' # pragma: no cover\n"
     ]
    }
   ],
   "source": [
    "#random box to be used in mosdef_charmm_writer\n",
    "hydrogen_box_bias  = mb.fill_box(compound=[hydrogen_optimized_mb ],\n",
    "                             n_compounds=[1] ,\n",
    "                            box=[1.0, 1.0, 1.0] )\n",
    "\n",
    "water_box_bias  = mb.fill_box(compound=[water_optimized_mb ],\n",
    "                             n_compounds=[1] ,\n",
    "                            box=[1.0, 1.0, 1.0] )\n",
    "\n",
    "mixed_box  = mb.fill_box(compound=[water_box_bias, hydrogen_optimized_mb ],\n",
    "                             n_compounds=[1, 1] ,\n",
    "                            box=[1.0, 1.0, 1.0] )\n",
    "\n",
    "\n",
    "\n",
    "FF_Dict = { water_optimized_mb.name:FF_file_water, hydrogen_optimized_mb.name:FF_file_hydrogen }\n",
    "\n",
    "residues_List = [water_optimized_mb.name, hydrogen_optimized_mb.name ]\n",
    "\n",
    "\n",
    "\n",
    "\n",
    "#hydrogen_box_bias.save(\"hydrogen_bias_coord.xyz\",overwrite=True)\n",
    "#nitrogen_box_bias.save(\"nitrogen_bias_coord.xyz\",overwrite=True)\n",
    "\n",
    "print('Running: GOMC FF file, and the psf and pdb files for the biasing potential file')\n",
    "mf_charmm.charmm_psf_psb_FF(mixed_box ,\n",
    "                            'overall_bias',\n",
    "                            FF_filename =\"overall_charmm_bias\" ,\n",
    "                            forcefield_selection = FF_Dict,\n",
    "                            residues= residues_List ,\n",
    "                            bead_to_atom_name_dict = {},\n",
    "                            fix_residue = None,\n",
    "                            reorder_res_in_pdb_psf = False\n",
    "                            )\n",
    "\n"
   ]
  },
  {
   "cell_type": "code",
   "execution_count": 6,
   "metadata": {},
   "outputs": [
    {
     "name": "stdout",
     "output_type": "stream",
     "text": [
      "Running: GOMC FF file, and the psf and pdb files for the biasing potential file\n",
      "write_gomcdata: forcefield_selection = {'H2': 'h2_ff.xml'}, residues = ['H2']\n",
      "******************************\n",
      "\n",
      "GOMC FF writing each residues FF as a group for structure_0\n",
      "forcefield type from compound = {'H2': 'h2_ff.xml'}\n",
      "coulomb14scale from compound = {'H2': 0.5}\n",
      "lj14scale from compound = {'H2': 0.5}\n",
      "unique_types = ['H_H2']\n",
      "No urey bradley terms detected, will use angle_style harmonic\n",
      "******************************\n",
      "\n",
      "writing the GOMC force field file \n",
      "NBFIX_Mixing not used or no mixing used for the non-bonded potentials out\n",
      "forcefield_dict = {0: 'H_H2'}\n",
      "******************************\n",
      "\n",
      "write_charmm_psf file is running\n",
      "write_charmm_psf: forcefield_selection = {'H2': 'h2_ff.xml'}, residues = ['H2']\n",
      "******************************\n",
      "\n",
      "No urey bradley terms detected\n",
      "******************************\n",
      "\n",
      "write_charmm_pdb file is running\n",
      "write_charmm_pdb: residues == ['H2']\n",
      "fix_residue = None\n",
      "fix_residue_in_box = None\n",
      "bead_to_atom_name_dict = {}\n",
      "INFORMATION: No atoms are fixed in this pdb file for the GOMC simulation engine. \n",
      "******************************\n",
      "\n"
     ]
    },
    {
     "name": "stderr",
     "output_type": "stream",
     "text": [
      "/mnt/d/software/MC-workflow/mbuild/mbuild/conversion.py:970: UserWarning: Guessing that \"<HH pos=( 0.0166, 0.0275, 0.7999), 0 bonds, id: 140505726195696>\" is element: \"H\"\n",
      "  warn(\n",
      "/mnt/d/software/MC-workflow/mbuild/mbuild/conversion.py:970: UserWarning: Guessing that \"<HH pos=( 0.0166, 0.0275, 0.7999), 0 bonds, id: 140504471168480>\" is element: \"H\"\n",
      "  warn(\n",
      "/home/rs/anaconda3/envs/cp2k_mc/lib/python3.8/site-packages/parmed/openmm/topsystem.py:236: OpenMMWarning: Adding what seems to be Urey-Bradley terms before Angles. This is unexpected, but the parameters will all be present in one form or another.\n",
      "  warnings.warn('Adding what seems to be Urey-Bradley terms before ' # pragma: no cover\n"
     ]
    }
   ],
   "source": [
    "FF_Dict = {hydrogen_optimized_mb.name:FF_file_hydrogen }\n",
    "\n",
    "residues_List = [hydrogen_optimized_mb.name ]\n",
    "\n",
    "\n",
    "\n",
    "\n",
    "#hydrogen_box_bias.save(\"hydrogen_bias_coord.xyz\",overwrite=True)\n",
    "#nitrogen_box_bias.save(\"nitrogen_bias_coord.xyz\",overwrite=True)\n",
    "\n",
    "print('Running: GOMC FF file, and the psf and pdb files for the biasing potential file')\n",
    "mf_charmm.charmm_psf_psb_FF(hydrogen_box_bias ,\n",
    "                            'hydrogen_bias',\n",
    "                            FF_filename =\"hydrogen_charmm_bias\" ,\n",
    "                            forcefield_selection = FF_Dict,\n",
    "                            residues= residues_List ,\n",
    "                            bead_to_atom_name_dict = {},\n",
    "                            fix_residue = None,\n",
    "                            reorder_res_in_pdb_psf = False\n",
    "                            )\n",
    "\n",
    "\n"
   ]
  },
  {
   "cell_type": "code",
   "execution_count": 7,
   "metadata": {},
   "outputs": [
    {
     "name": "stdout",
     "output_type": "stream",
     "text": [
      "Running: GOMC FF file, and the psf and pdb files for the biasing potential file\n",
      "write_gomcdata: forcefield_selection = {'H2O': 'water_tip3p.xml'}, residues = ['H2O']\n",
      "******************************\n",
      "\n",
      "GOMC FF writing each residues FF as a group for structure_0\n",
      "forcefield type from compound = {'H2O': 'water_tip3p.xml'}\n",
      "coulomb14scale from compound = {'H2O': 0.5}\n",
      "lj14scale from compound = {'H2O': 0.5}\n",
      "unique_types = ['h_H2O', 'o_H2O']\n",
      "No urey bradley terms detected, will use angle_style harmonic\n",
      "******************************\n",
      "\n",
      "writing the GOMC force field file \n",
      "NBFIX_Mixing not used or no mixing used for the non-bonded potentials out\n",
      "forcefield_dict = {1: 'o_H2O', 0: 'h_H2O'}\n",
      "******************************\n",
      "\n",
      "write_charmm_psf file is running\n",
      "write_charmm_psf: forcefield_selection = {'H2O': 'water_tip3p.xml'}, residues = ['H2O']\n",
      "******************************\n",
      "\n",
      "No urey bradley terms detected\n",
      "******************************\n",
      "\n",
      "write_charmm_pdb file is running\n",
      "write_charmm_pdb: residues == ['H2O']\n",
      "fix_residue = None\n",
      "fix_residue_in_box = None\n",
      "bead_to_atom_name_dict = {}\n",
      "INFORMATION: No atoms are fixed in this pdb file for the GOMC simulation engine. \n",
      "******************************\n",
      "\n"
     ]
    }
   ],
   "source": [
    "FF_Dict = { water_optimized_mb.name:FF_file_water }\n",
    "\n",
    "residues_List = [water_optimized_mb.name ]\n",
    "\n",
    "\n",
    "\n",
    "\n",
    "#hydrogen_box_bias.save(\"hydrogen_bias_coord.xyz\",overwrite=True)\n",
    "#nitrogen_box_bias.save(\"nitrogen_bias_coord.xyz\",overwrite=True)\n",
    "\n",
    "print('Running: GOMC FF file, and the psf and pdb files for the biasing potential file')\n",
    "mf_charmm.charmm_psf_psb_FF(water_box_bias ,\n",
    "                            'water_bias',\n",
    "                            FF_filename =\"water_charmm_bias\" ,\n",
    "                            forcefield_selection = FF_Dict,\n",
    "                            residues= residues_List ,\n",
    "                            bead_to_atom_name_dict = {},\n",
    "                            fix_residue = None,\n",
    "                            reorder_res_in_pdb_psf = False\n",
    "                            )\n",
    "\n"
   ]
  },
  {
   "cell_type": "code",
   "execution_count": 8,
   "metadata": {},
   "outputs": [],
   "source": [
    "molecule_list=[water_optimized_mb, hydrogen_optimized_mb]\n",
    "box=mb.box.Box(lengths=[1,1,1])\n",
    "#Comment why pressure is needed\n"
   ]
  },
  {
   "cell_type": "code",
   "execution_count": 9,
   "metadata": {},
   "outputs": [],
   "source": [
    "q=MC(molecule_list=molecule_list,n_box=2,n_molecules_each_box=[[2,2],[2,2]], box_list=[box,box],cutoff=200,functional='PBE',\n",
    "     basis_set={'H':'DZVP-MOLOPT-GTH', 'O':'DZVP-MOLOPT-GTH','HH':'DZVP-MOLOPT-GTH'}, periodicity=['XYZ']*2,ensemble='GEMC_NPT',seed=1,project_name='water_NPT_GEMC',restart='FALSE',pressure=1*u.bar, use_atom_name_as_symbol = False, run_type=\"equilibration\")#, initial_coordinate_filename = [\"box1_xyz.xyz\", \"box2_xyz.xyz\"])"
   ]
  },
  {
   "cell_type": "code",
   "execution_count": 10,
   "metadata": {},
   "outputs": [
    {
     "name": "stdout",
     "output_type": "stream",
     "text": [
      "scf_tolerance not specified, set as 1e-6\n",
      "basis_set_filename not defined, set as BASIS_MOLOPT\n",
      "potential_filename not specified, set as GTH_POTENTIALS\n",
      "n_steps not specified, set as 1000\n",
      "iuptrans not specified, set as 10\n",
      "iupvolume not specified, set as 10\n",
      "n_ff_moves not specified, set as 8\n",
      "nswapmoves not specified, set as 640, will be ignore if n_box<2\n",
      "output trajectory format set as XYZ\n",
      "input_filename not specified, set as ['GEMC_NPT_box1.inp', 'GEMC_NPT_box2.inp']\n",
      "output_filename not specified, set as water_NPT_GEMC_mc_output.out\n",
      "temperature not defined, set as 298 K\n",
      "You can change default settings in setter.mc_files\n"
     ]
    }
   ],
   "source": [
    "q.mc_initialization()"
   ]
  },
  {
   "cell_type": "code",
   "execution_count": 11,
   "metadata": {},
   "outputs": [],
   "source": [
    "\n",
    "q.topology_filename=['water_bias.psf', 'hydrogen_bias.psf']\n",
    "\n",
    "# move_probabilities=[pmavbmc,pmcltrans,pmhmc,pmswap,pmtraion,pmtrans,pmvolume]\n",
    "#volume moves = PMVOLUME\n",
    "# swap moves = PMSWAP - PMVOLUME\n",
    "# AVBMC moves = PMAVBMC - PMSWAP - PMVOLUME\n",
    "# an “inner” move = 1.0 - (PMAVBMC + PMSWAP + PMVOLUME)\n",
    "#conformational changes = “inner” move percentage × PMTRAION\n",
    "# molecular translation = “inner” move percentage × (PMTRANS - PMTRAION)\n",
    "# molecular rotation = “inner” move percentage × (1.0 - PMTRANS - PMTRAION)\n",
    "\n",
    "q.move_probabilities=[0,0.0,0,0.4,0.5,0.75,0.05]\n",
    "\n",
    "\n",
    "\n",
    "# mol_probabilities=[[PMAVBMC_MOL,PMSWAP_MOL , PMTRAION_MOL, PMTRANS_MOL,PMROT_MOL],[]]\n",
    "q.mol_probabilities=[[[1, 1],[1, 1],[1, 1],[1, 1],[1, 1]],[[1, 1],[1, 1],[1, 1],[1, 1],[1, 1]]]\n",
    "\n",
    "\n",
    "\n",
    "#avbmc probabilities=[[AVBMC_ATOM,AVBMC_RMIN,AVBMC_RMAX,PBIAS],[]]\n",
    "q.avbmc_probabilities=[[[1, 1],[1, 1],[1, 1],[1, 1]],[[1, 1],[1, 1],[1, 1],[1, 1]]]\n",
    "\n",
    "q.charmm_potential_file='overall_charmm_bias.inp'"
   ]
  },
  {
   "cell_type": "code",
   "execution_count": 12,
   "metadata": {},
   "outputs": [
    {
     "data": {
      "text/plain": [
       "10"
      ]
     },
     "execution_count": 12,
     "metadata": {},
     "output_type": "execute_result"
    }
   ],
   "source": [
    "q.iuptrans"
   ]
  },
  {
   "cell_type": "code",
   "execution_count": 20,
   "metadata": {},
   "outputs": [
    {
     "data": {
      "text/plain": [
       "['GEMC_NPT_box1.inp', 'GEMC_NPT_box2.inp']"
      ]
     },
     "execution_count": 20,
     "metadata": {},
     "output_type": "execute_result"
    }
   ],
   "source": [
    "q.input_filename"
   ]
  },
  {
   "cell_type": "code",
   "execution_count": 13,
   "metadata": {},
   "outputs": [
    {
     "name": "stdout",
     "output_type": "stream",
     "text": [
      "MC initial structure saved as ['water_NPT_GEMC_box1_initial.xyz', 'water_NPT_GEMC_box2_initial.xyz']\n",
      "IUPTRANS is 10\n",
      "This is ETA [0, 0]\n",
      "MC input file saved as GEMC_NPT_box1.inp\n",
      "IUPTRANS is 10\n",
      "This is ETA [0.0, 0]\n",
      "MC input file saved as GEMC_NPT_box2.inp\n",
      "IUPTRANS is 100\n",
      "This is ETA [0.0]\n"
     ]
    },
    {
     "name": "stderr",
     "output_type": "stream",
     "text": [
      "/mnt/d/software/MC-workflow/mbuild/mbuild/conversion.py:970: UserWarning: Guessing that \"<HH pos=( 0.3822, 0.7415, 0.1669), 0 bonds, id: 140419875125856>\" is element: \"H\"\n",
      "  warn(\n",
      "/mnt/d/software/MC-workflow/mbuild/mbuild/conversion.py:970: UserWarning: Guessing that \"<HH pos=( 0.3822, 0.7415, 0.1669), 0 bonds, id: 140419875139056>\" is element: \"H\"\n",
      "  warn(\n"
     ]
    }
   ],
   "source": [
    "\n",
    "setter.mc_files(q)"
   ]
  },
  {
   "cell_type": "code",
   "execution_count": 14,
   "metadata": {},
   "outputs": [
    {
     "name": "stdout",
     "output_type": "stream",
     "text": [
      "&FORCE_EVAL\r\n",
      "  METHOD        QUICKSTEP\r\n",
      "  STRESS_TENSOR        ANALYTICAL\r\n",
      "  &DFT        \r\n",
      "    BASIS_SET_FILE_NAME        BASIS_MOLOPT\r\n",
      "    CHARGE        0\r\n",
      "    MULTIPLICITY        1\r\n",
      "    POTENTIAL_FILE_NAME        GTH_POTENTIALS\r\n",
      "    &MGRID        \r\n",
      "      CUTOFF      200\r\n",
      "      NGRIDS      4\r\n",
      "      REL_CUTOFF      60\r\n",
      "    &END MGRID        \r\n",
      "    &QS        \r\n",
      "      EPS_DEFAULT       1e-08\r\n",
      "      EXTRAPOLATION       ASPC\r\n",
      "      METHOD       GPW\r\n",
      "    &END QS        \r\n",
      "    &POISSON        \r\n",
      "      PERIODIC       XYZ\r\n",
      "      &EWALD        \r\n",
      "      &END EWALD        \r\n",
      "    &END POISSON        \r\n",
      "    &PRINT         \r\n",
      "      &E_DENSITY_CUBE       OFF\r\n",
      "      &END E_DENSITY_CUBE       \r\n",
      "    &END PRINT        \r\n",
      "    &SCF        \r\n",
      "      EPS_SCF       1e-06\r\n",
      "      MAX_SCF       20\r\n",
      "      SCF_GUESS       RESTART\r\n",
      "      &OT       .TRUE. \r\n",
      "        MINIMIZER       DIIS\r\n",
      "        PRECONDITIONER       FULL_SINGLE_INVERSE\r\n",
      "      &END OT        \r\n",
      "      &OUTER_SCF       .TRUE. \r\n",
      "        EPS_SCF       1e-06\r\n",
      "        MAX_SCF       10\r\n",
      "      &END OUTER_SCF        \r\n",
      "      &PRINT        \r\n",
      "        DM_RESTART_WRITE       .TRUE.\r\n",
      "        &RESTART       OFF\r\n",
      "      &END RESTART   \r\n",
      "      &END PRINT       \r\n",
      "    &END SCF        \r\n",
      "    &XC        \r\n",
      "      &XC_FUNCTIONAL       PBE \r\n",
      "      &END XC_FUNCTIONAL     \r\n",
      "      &VDW_POTENTIAL        \r\n",
      "        POTENTIAL_TYPE       PAIR_POTENTIAL\r\n",
      "        &PAIR_POTENTIAL        \r\n",
      "          CALCULATE_C9_TERM       .TRUE.\r\n",
      "          EPS_CN       1e-06\r\n",
      "          LONG_RANGE_CORRECTION       .TRUE.\r\n",
      "          PARAMETER_FILE_NAME       dftd3.dat\r\n",
      "          REFERENCE_C9_TERM       .TRUE.\r\n",
      "          REFERENCE_FUNCTIONAL       PBE\r\n",
      "          R_CUTOFF       12\r\n",
      "          TYPE       DFTD3\r\n",
      "        &END PAIR_POTENTIAL        \r\n",
      "      &END VDW_POTENTIAL        \r\n",
      "      &XC_GRID        \r\n",
      "          XC_DERIV       SPLINE2\r\n",
      "          XC_SMOOTH_RHO       NONE\r\n",
      "      &END XC_GRID        \r\n",
      "    &END XC        \r\n",
      "  &END DFT        \r\n",
      "  &SUBSYS        \r\n",
      "    &CELL        \r\n",
      "      ABC       10.0 10.0 10.0\r\n",
      "      ALPHA_BETA_GAMMA       90.0 90.0 90.0\r\n",
      "      PERIODIC       XYZ\r\n",
      "      SYMMETRY       CUBIC\r\n",
      "      &CELL_REF        \r\n",
      "        ABC       10.0 10.0 10.0\r\n",
      "      &END CELL_REF        \r\n",
      "    &END CELL        \r\n",
      "    &COORD        \r\n",
      "      @INCLUDE       water_NPT_GEMC_box1_initial.xyz\r\n",
      "    &END COORD        \r\n",
      "    &KIND      H\r\n",
      "      BASIS_SET       DZVP-MOLOPT-GTH\r\n",
      "      ELEMENT       H\r\n",
      "      POTENTIAL       GTH-PBE\r\n",
      "    &END KIND        \r\n",
      "    &KIND      HH\r\n",
      "      BASIS_SET       DZVP-MOLOPT-GTH\r\n",
      "      ELEMENT       H\r\n",
      "      POTENTIAL       GTH-PBE\r\n",
      "    &END KIND        \r\n",
      "    &KIND      O\r\n",
      "      BASIS_SET       DZVP-MOLOPT-GTH\r\n",
      "      ELEMENT       O\r\n",
      "      POTENTIAL       GTH-PBE\r\n",
      "    &END KIND        \r\n",
      "    &TOPOLOGY        \r\n",
      "      CONN_FILE_FORMAT       MOL_SET\r\n",
      "      &MOL_SET       \r\n",
      "        &MOLECULE       \r\n",
      "          CONN_FILE_NAME       water_bias.psf\r\n",
      "          NMOL       2\r\n",
      "        &END MOLECULE       \r\n",
      "        &MOLECULE       \r\n",
      "          CONN_FILE_NAME       hydrogen_bias.psf\r\n",
      "          NMOL       2\r\n",
      "        &END MOLECULE       \r\n",
      "      &END MOL_SET       \r\n",
      "    &END TOPOLOGY       \r\n",
      "  &END SUBSYS        \r\n",
      "&END FORCE_EVAL        \r\n",
      "&GLOBAL\r\n",
      "  RUN_TYPE     MC\r\n",
      "  PROJECT      water_NPT_GEMC\r\n",
      "  PRINT_LEVEL  LOW\r\n",
      "  SEED  1\r\n",
      "&END GLOBAL\r\n",
      "&MOTION\r\n",
      "  &MC\r\n",
      "    &AVBMC\r\n",
      "      AVBMC_ATOM        1 1\r\n",
      "      AVBMC_RMAX        1 1\r\n",
      "      AVBMC_RMIN        1 1\r\n",
      "      PBIAS        1 1\r\n",
      "    &END AVBMC\r\n",
      "    &MAX_DISPLACEMENTS\r\n",
      "      &BOX_DISPLACEMENTS\r\n",
      "        RMVOLUME        201.0\r\n",
      "      &END BOX_DISPLACEMENTS\r\n",
      "      &MOL_DISPLACEMENTS\r\n",
      "        RMANGLE        3.0 3.0\r\n",
      "        RMBOND        0.074 0.074\r\n",
      "        RMDIHEDRAL        3.0 3.0\r\n",
      "        RMROT        26.0 26.0\r\n",
      "        RMTRANS        0.38 0.38\r\n",
      "      &END MOL_DISPLACEMENTS\r\n",
      "    &END MAX_DISPLACEMENTS\r\n",
      "    &MOVE_PROBABILITIES\r\n",
      "      &BOX_PROBABILITIES\r\n",
      "        PMHMC_BOX        1.0\r\n",
      "        PMVOL_BOX        1.0\r\n",
      "      &END BOX_PROBABILITIES\r\n",
      "      &MOL_PROBABILITIES\r\n",
      "        PMAVBMC_MOL        1 1\r\n",
      "        PMROT_MOL        1 1\r\n",
      "        PMSWAP_MOL        1 1\r\n",
      "        PMTRAION_MOL        1 1\r\n",
      "        PMTRANS_MOL        1 1\r\n",
      "      &END MOL_PROBABILITIES\r\n",
      "      PMAVBMC        0\r\n",
      "      PMCLTRANS        0.0\r\n",
      "      PMHMC        0\r\n",
      "      PMSWAP        0.4\r\n",
      "      PMTRAION        0.5\r\n",
      "      PMTRANS        0.75\r\n",
      "      PMVOLUME        0.05\r\n",
      "    &END MOVE_PROBABILITIES\r\n",
      "    &MOVE_UPDATES\r\n",
      "      IUPTRANS        10\r\n",
      "      IUPVOLUME        10\r\n",
      "    &END MOVE_UPDATES\r\n",
      "    BOX2_FILE_NAME        GEMC_NPT_box2.inp\r\n",
      "    ENSEMBLE        GEMC_NPT\r\n",
      "    ETA        0 0\r\n",
      "    IPRINT        1\r\n",
      "    LBIAS        TRUE\r\n",
      "    LSTOP        FALSE\r\n",
      "    NMOVES        8\r\n",
      "    NSTEP        1000\r\n",
      "    NSWAPMOVES        640\r\n",
      "    PRESSURE        1.0\r\n",
      "    RESTART        FALSE\r\n",
      "    RESTART_FILE_NAME        mc_restart_1\r\n",
      "    TEMPERATURE        298\r\n",
      "  &END MC\r\n",
      "  &MD\r\n",
      "    &THERMOSTAT       \r\n",
      "    &END THERMOSTAT       \r\n",
      "    &AVERAGES       \r\n",
      "    &END AVERAGES       \r\n",
      "    &PRINT       \r\n",
      "      &ENERGY       \r\n",
      "        &EACH       \r\n",
      "        &END EACH       \r\n",
      "      &END ENERGY       \r\n",
      "      &PROGRAM_RUN_INFO       \r\n",
      "        &EACH       \r\n",
      "        &END EACH       \r\n",
      "      &END PROGRAM_RUN_INFO     \r\n",
      "    &END PRINT       \r\n",
      "  &END MD\r\n",
      " \r\n",
      "  &CONSTRAINT\r\n",
      "    &FIXED_ATOMS      \r\n",
      "    &END FIXED_ATOMS       \r\n",
      "  &END CONSTRAINT\r\n",
      " \r\n",
      "  &PRINT \r\n",
      "  &END PRINT \r\n",
      "  &GEO_OPT \r\n",
      "  &END GEO_OPT \r\n",
      "&END MOTION \r\n"
     ]
    }
   ],
   "source": [
    "!cat GEMC_NPT_box1.inp"
   ]
  },
  {
   "cell_type": "code",
   "execution_count": 21,
   "metadata": {},
   "outputs": [
    {
     "name": "stdout",
     "output_type": "stream",
     "text": [
      "cat: box1_xyz.xyz: No such file or directory\r\n"
     ]
    }
   ],
   "source": [
    "!cat box1_xyz.xyz"
   ]
  },
  {
   "cell_type": "code",
   "execution_count": 22,
   "metadata": {},
   "outputs": [
    {
     "name": "stdout",
     "output_type": "stream",
     "text": [
      "4\r\n",
      "dlt.xyz - created by mBuild\r\n",
      "H    1.000000    1.000000    1.000000\r\n",
      "O    2.000000    2.000000    2.000000\r\n",
      "HH    1.000000    3.000000    2.000000\r\n",
      "HH    2.000000    3.000000    4.000000\r\n"
     ]
    }
   ],
   "source": [
    "!cat dlt.xyz"
   ]
  },
  {
   "cell_type": "code",
   "execution_count": null,
   "metadata": {},
   "outputs": [],
   "source": []
  }
 ],
 "metadata": {
  "kernelspec": {
   "display_name": "Python 3",
   "language": "python",
   "name": "python3"
  },
  "language_info": {
   "codemirror_mode": {
    "name": "ipython",
    "version": 3
   },
   "file_extension": ".py",
   "mimetype": "text/x-python",
   "name": "python",
   "nbconvert_exporter": "python",
   "pygments_lexer": "ipython3",
   "version": "3.8.6"
  }
 },
 "nbformat": 4,
 "nbformat_minor": 4
}
