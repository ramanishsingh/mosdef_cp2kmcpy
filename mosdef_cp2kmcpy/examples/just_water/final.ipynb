{
 "cells": [
  {
   "cell_type": "code",
   "execution_count": 1,
   "metadata": {},
   "outputs": [],
   "source": [
    "!pwd"
   ]
  },
  {
   "cell_type": "code",
   "execution_count": 2,
   "metadata": {},
   "outputs": [],
   "source": [
    "import warnings\n",
    "warnings.filterwarnings(\"ignore\", category=DeprecationWarning)\n",
    "\n",
    "import mbuild as mb\n",
    "import foyer\n",
    "from foyer import Forcefield\n",
    "\n",
    "import mbuild.formats.charmm_writer as mf_charmm\n",
    "\n",
    "import mosdef_cp2k_writer\n",
    "\n",
    "\n",
    "import parmed as pmd\n",
    "from constrainmol import ConstrainedMolecule\n",
    "import unyt as u\n",
    "\n",
    "from mosdef_cp2kmcpy.mc import MC\n",
    "warnings.filterwarnings(\"ignore\", category=DeprecationWarning)\n",
    " "
   ]
  },
  {
   "cell_type": "code",
   "execution_count": 3,
   "metadata": {},
   "outputs": [
    {
     "name": "stderr",
     "output_type": "stream",
     "text": [
      "/home/rs/anaconda3/envs/cp2k_mc/lib/python3.8/site-packages/foyer/forcefield.py:448: UserWarning: No force field version number found in force field XML file.\n",
      "  warnings.warn(\n",
      "/home/rs/anaconda3/envs/cp2k_mc/lib/python3.8/site-packages/foyer/forcefield.py:460: UserWarning: No force field name found in force field XML file.\n",
      "  warnings.warn(\n",
      "/mnt/d/software/MC-workflow/mbuild/mbuild/conversion.py:687: UserWarning: No unitcell detected for pybel.Molecule O\t\n",
      "\n",
      "  warn(\"No unitcell detected for pybel.Molecule {}\".format(pybel_mol))\n"
     ]
    }
   ],
   "source": [
    "\n",
    "water_res_name = 'H2O'\n",
    "FF_file_water = 'water_ff.xml'\n",
    "water_FF = Forcefield(forcefield_files=FF_file_water)\n",
    "water_mb = mb.load('O', smiles=True)\n",
    "\n",
    "for particle in water_mb.particles():\n",
    "    \n",
    "    if particle.name == \"O\":\n",
    "        particle.element = \"O\"\n",
    "    else:\n",
    "        particle.element = \"H\"\n",
    "        \n",
    "water_mb.name = water_res_name\n",
    "\n",
    "water_typed=water_FF.apply(water_mb)\n",
    "\n",
    "\n",
    "\n",
    "constrain_mol = ConstrainedMolecule(water_typed)\n",
    "constrain_mol.solve()\n",
    "water_optimized_mb=mb.clone(water_mb)\n",
    "water_optimized_mb.xyz=constrain_mol.xyz/10"
   ]
  },
  {
   "cell_type": "code",
   "execution_count": 4,
   "metadata": {
    "scrolled": true
   },
   "outputs": [],
   "source": [
    "\n",
    "\n",
    "water_box_bias  = mb.fill_box(compound=[water_optimized_mb ],\n",
    "                             n_compounds=[1] ,\n",
    "                            box=[1.0, 1.0, 1.0] )\n",
    "\n",
    "\n"
   ]
  },
  {
   "cell_type": "code",
   "execution_count": 5,
   "metadata": {},
   "outputs": [
    {
     "name": "stdout",
     "output_type": "stream",
     "text": [
      "Running: GOMC FF file, and the psf and pdb files for the biasing potential file\n",
      "write_gomcdata: forcefield_selection = {'H2O': 'water_ff.xml'}, residues = ['H2O']\n",
      "******************************\n",
      "\n",
      "GOMC FF writing each residues FF as a group for structure_0\n",
      "forcefield type from compound = {'H2O': 'water_ff.xml'}\n",
      "coulomb14scale from compound = {'H2O': 1.0}\n",
      "lj14scale from compound = {'H2O': 1.0}\n",
      "unique_types = ['h_spce_H2O', 'o_spce_H2O']\n",
      "No urey bradley terms detected, will use angle_style harmonic\n",
      "******************************\n",
      "\n",
      "writing the GOMC force field file \n",
      "NBFIX_Mixing not used or no mixing used for the non-bonded potentials out\n",
      "forcefield_dict = {1: 'o_spce_H2O', 0: 'h_spce_H2O'}\n",
      "******************************\n",
      "\n",
      "write_charmm_psf file is running\n",
      "write_charmm_psf: forcefield_selection = {'H2O': 'water_ff.xml'}, residues = ['H2O']\n",
      "******************************\n",
      "\n",
      "No urey bradley terms detected\n",
      "******************************\n",
      "\n",
      "write_charmm_pdb file is running\n",
      "write_charmm_pdb: residues == ['H2O']\n",
      "fix_residue = None\n",
      "fix_residue_in_box = None\n",
      "bead_to_atom_name_dict = {}\n",
      "INFORMATION: No atoms are fixed in this pdb file for the GOMC simulation engine. \n",
      "******************************\n",
      "\n"
     ]
    }
   ],
   "source": [
    "FF_Dict = { water_optimized_mb.name:FF_file_water }\n",
    "\n",
    "residues_List = [water_optimized_mb.name ]\n",
    "\n",
    "\n",
    "\n",
    "\n",
    "#hydrogen_box_bias.save(\"hydrogen_bias_coord.xyz\",overwrite=True)\n",
    "#nitrogen_box_bias.save(\"nitrogen_bias_coord.xyz\",overwrite=True)\n",
    "\n",
    "print('Running: GOMC FF file, and the psf and pdb files for the biasing potential file')\n",
    "mf_charmm.charmm_psf_psb_FF(water_box_bias ,\n",
    "                            'water_bias',\n",
    "                            FF_filename =\"water_charmm_bias\" ,\n",
    "                            forcefield_selection = FF_Dict,\n",
    "                            residues= residues_List ,\n",
    "                            bead_to_atom_name_dict = {},\n",
    "                            fix_residue = None,\n",
    "                            reorder_res_in_pdb_psf = False\n",
    "                            )\n",
    "\n"
   ]
  },
  {
   "cell_type": "code",
   "execution_count": null,
   "metadata": {},
   "outputs": [],
   "source": []
  }
 ],
 "metadata": {
  "kernelspec": {
   "display_name": "Python 3",
   "language": "python",
   "name": "python3"
  },
  "language_info": {
   "codemirror_mode": {
    "name": "ipython",
    "version": 3
   },
   "file_extension": ".py",
   "mimetype": "text/x-python",
   "name": "python",
   "nbconvert_exporter": "python",
   "pygments_lexer": "ipython3",
   "version": "3.8.6"
  }
 },
 "nbformat": 4,
 "nbformat_minor": 4
}
