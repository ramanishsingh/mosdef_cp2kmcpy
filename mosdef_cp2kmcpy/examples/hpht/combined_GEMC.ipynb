{
 "cells": [
  {
   "cell_type": "code",
   "execution_count": 1,
   "metadata": {},
   "outputs": [],
   "source": [
    "import warnings\n",
    "warnings.filterwarnings(\"ignore\", category=DeprecationWarning)"
   ]
  },
  {
   "cell_type": "code",
   "execution_count": 2,
   "metadata": {},
   "outputs": [],
   "source": [
    "import mbuild as mb\n",
    "import foyer\n",
    "from foyer import Forcefield\n",
    "\n",
    "import mbuild.formats.charmm_writer as mf_charmm\n",
    "\n",
    "import mosdef_cp2k_writer\n",
    "\n",
    "\n",
    "import parmed as pmd\n",
    "from constrainmol import ConstrainedMolecule\n",
    "import unyt as u\n",
    "\n",
    "from mosdef_cp2kmcpy.mc import MC\n",
    "import setter\n",
    "warnings.filterwarnings(\"ignore\", category=DeprecationWarning)\n",
    " "
   ]
  },
  {
   "cell_type": "code",
   "execution_count": 3,
   "metadata": {},
   "outputs": [
    {
     "name": "stderr",
     "output_type": "stream",
     "text": [
      "/home/rs/anaconda3/envs/cp2k_mc/lib/python3.8/site-packages/foyer/forcefield.py:448: UserWarning: No force field version number found in force field XML file.\n",
      "  warnings.warn(\n",
      "/home/rs/anaconda3/envs/cp2k_mc/lib/python3.8/site-packages/foyer/forcefield.py:460: UserWarning: No force field name found in force field XML file.\n",
      "  warnings.warn(\n",
      "/mnt/d/software/MC-workflow/mbuild/mbuild/conversion.py:687: UserWarning: No unitcell detected for pybel.Molecule [H][H]\t\n",
      "\n",
      "  warn(\"No unitcell detected for pybel.Molecule {}\".format(pybel_mol))\n",
      "/home/rs/anaconda3/envs/cp2k_mc/lib/python3.8/site-packages/parmed/openmm/topsystem.py:236: OpenMMWarning: Adding what seems to be Urey-Bradley terms before Angles. This is unexpected, but the parameters will all be present in one form or another.\n",
      "  warnings.warn('Adding what seems to be Urey-Bradley terms before ' # pragma: no cover\n"
     ]
    },
    {
     "name": "stdout",
     "output_type": "stream",
     "text": [
      "[[0.09977617 0.00628678 0.00246344]\n",
      " [0.17387617 0.00628678 0.00246344]]\n"
     ]
    }
   ],
   "source": [
    "\n",
    "hydrogen_res_name = 'H2'\n",
    "FF_file_hydrogen = 'h2_ff.xml'\n",
    "hydrogen_FF = Forcefield(forcefield_files=FF_file_hydrogen)\n",
    "hydrogen_mb = mb.load('[HH]', smiles=True)\n",
    "\n",
    "hydrogen_mb.name = hydrogen_res_name\n",
    "\n",
    "hydrogen_typed=hydrogen_FF.apply(hydrogen_mb)\n",
    "\n",
    "\n",
    "\n",
    "constrain_mol = ConstrainedMolecule(hydrogen_typed)\n",
    "constrain_mol.solve()\n",
    "hydrogen_optimized_mb=mb.clone(hydrogen_mb)\n",
    "hydrogen_optimized_mb.xyz=constrain_mol.xyz/10\n",
    "print(hydrogen_optimized_mb.xyz)"
   ]
  },
  {
   "cell_type": "code",
   "execution_count": 4,
   "metadata": {},
   "outputs": [
    {
     "data": {
      "application/3dmoljs_load.v0": "<div id=\"3dmolviewer_16643028532482474\"  style=\"position: relative; width: 640px; height: 480px\">\n        <p id=\"3dmolwarning_16643028532482474\" style=\"background-color:#ffcccc;color:black\">You appear to be running in JupyterLab (or JavaScript failed to load for some other reason).  You need to install the 3dmol extension: <br>\n        <tt>jupyter labextension install jupyterlab_3dmol</tt></p>\n        </div>\n<script>\n\nvar loadScriptAsync = function(uri){\n  return new Promise((resolve, reject) => {\n    var tag = document.createElement('script');\n    tag.src = uri;\n    tag.async = true;\n    tag.onload = () => {\n      resolve();\n    };\n  var firstScriptTag = document.getElementsByTagName('script')[0];\n  firstScriptTag.parentNode.insertBefore(tag, firstScriptTag);\n});\n};\n\nif(typeof $3Dmolpromise === 'undefined') {\n$3Dmolpromise = null;\n  $3Dmolpromise = loadScriptAsync('https://3dmol.csb.pitt.edu/build/3Dmol.js');\n}\n\nvar viewer_16643028532482474 = null;\nvar warn = document.getElementById(\"3dmolwarning_16643028532482474\");\nif(warn) {\n    warn.parentNode.removeChild(warn);\n}\n$3Dmolpromise.then(function() {\nviewer_16643028532482474 = $3Dmol.createViewer($(\"#3dmolviewer_16643028532482474\"),{backgroundColor:\"white\"});\n\tviewer_16643028532482474.addModel(\"@<TRIPOS>MOLECULE\\nRES\\n2 1 1 0 1\\nSMALL\\nNO_CHARGES\\n@<TRIPOS>CRYSIN\\n    5.7410     5.0000     5.0000    90.0000    90.0000    90.0000  1  1\\n@<TRIPOS>ATOM\\n       1 H            0.9978     0.0629     0.0246 H             1 RES     \\n       2 H            1.7388     0.0629     0.0246 H             1 RES     \\n@<TRIPOS>BOND\\n       1        1        2 1\\n@<TRIPOS>SUBSTRUCTURE\\n       1 RES             1 RESIDUE    0 **** ROOT      0\\n\",\"mol2\");\n\tviewer_16643028532482474.setStyle({\"stick\": {\"radius\": 0.2, \"color\": \"grey\"}, \"sphere\": {\"scale\": 0.3, \"colorscheme\": {}}});\n\tviewer_16643028532482474.zoomTo();\nviewer_16643028532482474.render();\n});\n</script>",
      "text/html": [
       "<div id=\"3dmolviewer_16643028532482474\"  style=\"position: relative; width: 640px; height: 480px\">\n",
       "        <p id=\"3dmolwarning_16643028532482474\" style=\"background-color:#ffcccc;color:black\">You appear to be running in JupyterLab (or JavaScript failed to load for some other reason).  You need to install the 3dmol extension: <br>\n",
       "        <tt>jupyter labextension install jupyterlab_3dmol</tt></p>\n",
       "        </div>\n",
       "<script>\n",
       "\n",
       "var loadScriptAsync = function(uri){\n",
       "  return new Promise((resolve, reject) => {\n",
       "    var tag = document.createElement('script');\n",
       "    tag.src = uri;\n",
       "    tag.async = true;\n",
       "    tag.onload = () => {\n",
       "      resolve();\n",
       "    };\n",
       "  var firstScriptTag = document.getElementsByTagName('script')[0];\n",
       "  firstScriptTag.parentNode.insertBefore(tag, firstScriptTag);\n",
       "});\n",
       "};\n",
       "\n",
       "if(typeof $3Dmolpromise === 'undefined') {\n",
       "$3Dmolpromise = null;\n",
       "  $3Dmolpromise = loadScriptAsync('https://3dmol.csb.pitt.edu/build/3Dmol.js');\n",
       "}\n",
       "\n",
       "var viewer_16643028532482474 = null;\n",
       "var warn = document.getElementById(\"3dmolwarning_16643028532482474\");\n",
       "if(warn) {\n",
       "    warn.parentNode.removeChild(warn);\n",
       "}\n",
       "$3Dmolpromise.then(function() {\n",
       "viewer_16643028532482474 = $3Dmol.createViewer($(\"#3dmolviewer_16643028532482474\"),{backgroundColor:\"white\"});\n",
       "\tviewer_16643028532482474.addModel(\"@<TRIPOS>MOLECULE\\nRES\\n2 1 1 0 1\\nSMALL\\nNO_CHARGES\\n@<TRIPOS>CRYSIN\\n    5.7410     5.0000     5.0000    90.0000    90.0000    90.0000  1  1\\n@<TRIPOS>ATOM\\n       1 H            0.9978     0.0629     0.0246 H             1 RES     \\n       2 H            1.7388     0.0629     0.0246 H             1 RES     \\n@<TRIPOS>BOND\\n       1        1        2 1\\n@<TRIPOS>SUBSTRUCTURE\\n       1 RES             1 RESIDUE    0 **** ROOT      0\\n\",\"mol2\");\n",
       "\tviewer_16643028532482474.setStyle({\"stick\": {\"radius\": 0.2, \"color\": \"grey\"}, \"sphere\": {\"scale\": 0.3, \"colorscheme\": {}}});\n",
       "\tviewer_16643028532482474.zoomTo();\n",
       "viewer_16643028532482474.render();\n",
       "});\n",
       "</script>"
      ]
     },
     "metadata": {},
     "output_type": "display_data"
    },
    {
     "data": {
      "text/plain": [
       "<py3Dmol.view at 0x7fd4f1b28f10>"
      ]
     },
     "execution_count": 4,
     "metadata": {},
     "output_type": "execute_result"
    }
   ],
   "source": [
    "hydrogen_optimized_mb.visualize()"
   ]
  },
  {
   "cell_type": "code",
   "execution_count": 5,
   "metadata": {},
   "outputs": [],
   "source": [
    "#random box to be used in mosdef_charmm_writer\n",
    "hydrogen_box_bias  = mb.fill_box(compound=[hydrogen_optimized_mb ],\n",
    "                             n_compounds=[1] ,\n",
    "                            box=[1.0, 1.0, 1.0] )"
   ]
  },
  {
   "cell_type": "code",
   "execution_count": 6,
   "metadata": {},
   "outputs": [
    {
     "name": "stdout",
     "output_type": "stream",
     "text": [
      "Running: GOMC FF file, and the psf and pdb files for the biasing potential file\n",
      "write_gomcdata: forcefield_selection = {'H2': 'h2_ff.xml'}, residues = ['H2']\n",
      "******************************\n",
      "\n",
      "GOMC FF writing each residues FF as a group for structure_0\n",
      "forcefield type from compound = {'H2': 'h2_ff.xml'}\n",
      "coulomb14scale from compound = {'H2': 0.0}\n",
      "lj14scale from compound = {'H2': 0.0}\n",
      "unique_types = ['H_H2']\n",
      "No urey bradley terms detected, will use angle_style harmonic\n",
      "******************************\n",
      "\n",
      "writing the GOMC force field file \n",
      "NBFIX_Mixing not used or no mixing used for the non-bonded potentials out\n",
      "forcefield_dict = {0: 'H_H2'}\n",
      "******************************\n",
      "\n",
      "write_charmm_psf file is running\n",
      "write_charmm_psf: forcefield_selection = {'H2': 'h2_ff.xml'}, residues = ['H2']\n",
      "******************************\n",
      "\n",
      "No urey bradley terms detected\n",
      "******************************\n",
      "\n",
      "write_charmm_pdb file is running\n",
      "write_charmm_pdb: residues == ['H2']\n",
      "fix_residue = None\n",
      "fix_residue_in_box = None\n",
      "bead_to_atom_name_dict = {}\n",
      "INFORMATION: No atoms are fixed in this pdb file for the GOMC simulation engine. \n",
      "******************************\n",
      "\n"
     ]
    },
    {
     "name": "stderr",
     "output_type": "stream",
     "text": [
      "/home/rs/anaconda3/envs/cp2k_mc/lib/python3.8/site-packages/parmed/openmm/topsystem.py:236: OpenMMWarning: Adding what seems to be Urey-Bradley terms before Angles. This is unexpected, but the parameters will all be present in one form or another.\n",
      "  warnings.warn('Adding what seems to be Urey-Bradley terms before ' # pragma: no cover\n"
     ]
    }
   ],
   "source": [
    "FF_Dict = {hydrogen_optimized_mb.name:FF_file_hydrogen }\n",
    "\n",
    "residues_List = [hydrogen_optimized_mb.name ]\n",
    "\n",
    "\n",
    "\n",
    "\n",
    "hydrogen_box_bias.save(\"hydrogen_bias_coord.xyz\",overwrite=True)\n",
    "\n",
    "print('Running: GOMC FF file, and the psf and pdb files for the biasing potential file')\n",
    "mf_charmm.charmm_psf_psb_FF(hydrogen_box_bias ,\n",
    "                            'hydrogen_bias',\n",
    "                            FF_filename =\"hydrogen_charmm_bias\" ,\n",
    "                            forcefield_selection = FF_Dict,\n",
    "                            residues= residues_List ,\n",
    "                            bead_to_atom_name_dict = {},\n",
    "                            fix_residue = None,\n",
    "                            reorder_res_in_pdb_psf = False\n",
    "                            )\n",
    "\n",
    "! rm *.pdb *.xyz"
   ]
  },
  {
   "cell_type": "code",
   "execution_count": 11,
   "metadata": {},
   "outputs": [],
   "source": [
    "molecule_list=[hydrogen_optimized_mb, hydrogen_optimized_mb]\n",
    "box=mb.box.Box(lengths=[1,1,1])\n",
    "#Comment why pressure is needed\n",
    "q=MC(molecule_list=molecule_list,n_box=2,n_molecules_each_box=[[49,2],[1,2]], box_list=[box,box],cutoff=200,functional='PBE',\n",
    "     basis_set={'N':'DZVP-MOLOPT-GTH','H':'DZVP-MOLOPT-GTH'}, periodicity=['XYZ']*2,ensemble='GEMC_NVT',seed=1,project_name='NH3_NVT_GEMC',restart='FALSE',pressure=1*u.bar)"
   ]
  },
  {
   "cell_type": "code",
   "execution_count": 12,
   "metadata": {},
   "outputs": [
    {
     "name": "stdout",
     "output_type": "stream",
     "text": [
      "scf_tolerance not specified, set as 1e-6\n",
      "basis_set_filename not defined, set as BASIS_MOLOPT\n",
      "potential_filename not specified, set as GTH_POTENTIALS\n",
      "n_steps not specified, set as 1000\n",
      "n_ff_moves not specified, set as 8\n",
      "nswapmoves not specified, set as 640, will be ignore if n_box<2\n",
      "output trajectory format set as XYZ\n",
      "input_filename not specified, set as ['GEMC_NVT_box1.inp', 'GEMC_NVT_box2.inp']\n",
      "output_filename not specified, set as NH3_NVT_GEMC_mc_output.out\n",
      "temperature not defined, set as 298 K\n",
      "You can change default settings in setter.mc_files\n"
     ]
    }
   ],
   "source": [
    "q.mc_initialization()"
   ]
  },
  {
   "cell_type": "code",
   "execution_count": 15,
   "metadata": {},
   "outputs": [],
   "source": [
    "\n",
    "q.topology_filename=['hydrogen_bias.psf', 'hydrogen_bias.psf']\n",
    "\n",
    "# move_probabilities=[pmavbmc,pmcltrans,pmhmc,pmswap,pmtraion,pmtrans,pmvolume]\n",
    "#volume moves = PMVOLUME\n",
    "# swap moves = PMSWAP - PMVOLUME\n",
    "# AVBMC moves = PMAVBMC - PMSWAP - PMVOLUME\n",
    "# an “inner” move = 1.0 - (PMAVBMC + PMSWAP + PMVOLUME)\n",
    "#conformational changes = “inner” move percentage × PMTRAION\n",
    "# molecular translation = “inner” move percentage × (PMTRANS - PMTRAION)\n",
    "# molecular rotation = “inner” move percentage × (1.0 - PMTRANS - PMTRAION)\n",
    "\n",
    "q.move_probabilities=[0,0.0,0,0.4,0.5,0.75,0.05]\n",
    "\n",
    "\n",
    "\n",
    "# mol_probabilities=[[PMAVBMC_MOL,PMSWAP_MOL , PMTRAION_MOL, PMTRANS_MOL,PMROT_MOL],[]]\n",
    "q.mol_probabilities=[[[1],[1],[1],[1],[1]],[[1],[1],[1],[1],[1]]]\n",
    "\n",
    "\n",
    "\n",
    "#avbmc probabilities=[[AVBMC_ATOM,AVBMC_RMIN,AVBMC_RMAX,PBIAS],[]]\n",
    "q.avbmc_probabilities=[[[1],[1],[1],[1]],[[1],[1],[1],[1]]]\n",
    "\n",
    "q.charmm_potential_file='hydrogen_charmm_bias.inp'"
   ]
  },
  {
   "cell_type": "code",
   "execution_count": 16,
   "metadata": {},
   "outputs": [
    {
     "name": "stdout",
     "output_type": "stream",
     "text": [
      "MC initial structure saved as ['NH3_NVT_GEMC_box1_initial.xyz', 'NH3_NVT_GEMC_box2_initial.xyz']\n",
      "MC input file saved as GEMC_NVT_box1.inp\n",
      "MC input file saved as GEMC_NVT_box2.inp\n"
     ]
    }
   ],
   "source": [
    "setter.mc_files(q)"
   ]
  },
  {
   "cell_type": "code",
   "execution_count": null,
   "metadata": {},
   "outputs": [],
   "source": []
  }
 ],
 "metadata": {
  "kernelspec": {
   "display_name": "Python 3",
   "language": "python",
   "name": "python3"
  },
  "language_info": {
   "codemirror_mode": {
    "name": "ipython",
    "version": 3
   },
   "file_extension": ".py",
   "mimetype": "text/x-python",
   "name": "python",
   "nbconvert_exporter": "python",
   "pygments_lexer": "ipython3",
   "version": "3.8.6"
  }
 },
 "nbformat": 4,
 "nbformat_minor": 4
}
