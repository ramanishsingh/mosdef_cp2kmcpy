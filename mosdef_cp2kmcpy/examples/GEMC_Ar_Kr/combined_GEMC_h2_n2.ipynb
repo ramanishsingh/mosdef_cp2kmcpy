{
 "cells": [
  {
   "cell_type": "code",
   "execution_count": 1,
   "metadata": {},
   "outputs": [],
   "source": [
    "import warnings\n",
    "warnings.filterwarnings(\"ignore\", category=DeprecationWarning)"
   ]
  },
  {
   "cell_type": "code",
   "execution_count": 2,
   "metadata": {},
   "outputs": [
    {
     "ename": "ModuleNotFoundError",
     "evalue": "No module named 'setter'",
     "output_type": "error",
     "traceback": [
      "\u001b[0;31m---------------------------------------------------------------------------\u001b[0m",
      "\u001b[0;31mModuleNotFoundError\u001b[0m                       Traceback (most recent call last)",
      "\u001b[0;32m<ipython-input-2-a7b275b82bae>\u001b[0m in \u001b[0;36m<module>\u001b[0;34m\u001b[0m\n\u001b[1;32m     13\u001b[0m \u001b[0;34m\u001b[0m\u001b[0m\n\u001b[1;32m     14\u001b[0m \u001b[0;32mfrom\u001b[0m \u001b[0mmosdef_cp2kmcpy\u001b[0m\u001b[0;34m.\u001b[0m\u001b[0mmc\u001b[0m \u001b[0;32mimport\u001b[0m \u001b[0mMC\u001b[0m\u001b[0;34m\u001b[0m\u001b[0;34m\u001b[0m\u001b[0m\n\u001b[0;32m---> 15\u001b[0;31m \u001b[0;32mimport\u001b[0m \u001b[0msetter\u001b[0m\u001b[0;34m\u001b[0m\u001b[0;34m\u001b[0m\u001b[0m\n\u001b[0m\u001b[1;32m     16\u001b[0m \u001b[0mwarnings\u001b[0m\u001b[0;34m.\u001b[0m\u001b[0mfilterwarnings\u001b[0m\u001b[0;34m(\u001b[0m\u001b[0;34m\"ignore\"\u001b[0m\u001b[0;34m,\u001b[0m \u001b[0mcategory\u001b[0m\u001b[0;34m=\u001b[0m\u001b[0mDeprecationWarning\u001b[0m\u001b[0;34m)\u001b[0m\u001b[0;34m\u001b[0m\u001b[0;34m\u001b[0m\u001b[0m\n\u001b[1;32m     17\u001b[0m \u001b[0;34m\u001b[0m\u001b[0m\n",
      "\u001b[0;31mModuleNotFoundError\u001b[0m: No module named 'setter'"
     ]
    }
   ],
   "source": [
    "import mbuild as mb\n",
    "import foyer\n",
    "from foyer import Forcefield\n",
    "\n",
    "import mbuild.formats.charmm_writer as mf_charmm\n",
    "\n",
    "import mosdef_cp2k_writer\n",
    "\n",
    "\n",
    "import parmed as pmd\n",
    "from constrainmol import ConstrainedMolecule\n",
    "import unyt as u\n",
    "\n",
    "from mosdef_cp2kmcpy.mc import MC\n",
    "import setter\n",
    "warnings.filterwarnings(\"ignore\", category=DeprecationWarning)\n",
    " "
   ]
  },
  {
   "cell_type": "code",
   "execution_count": null,
   "metadata": {},
   "outputs": [],
   "source": [
    "\n",
    "hydrogen_res_name = 'H2'\n",
    "FF_file_hydrogen = 'h2_ff.xml'\n",
    "hydrogen_FF = Forcefield(forcefield_files=FF_file_hydrogen)\n",
    "hydrogen_mb = mb.load('[HH]', smiles=True)\n",
    "\n",
    "hydrogen_mb.name = hydrogen_res_name\n",
    "\n",
    "hydrogen_typed=hydrogen_FF.apply(hydrogen_mb)\n",
    "\n",
    "\n",
    "\n",
    "constrain_mol = ConstrainedMolecule(hydrogen_typed)\n",
    "constrain_mol.solve()\n",
    "hydrogen_optimized_mb=mb.clone(hydrogen_mb)\n",
    "hydrogen_optimized_mb.xyz=constrain_mol.xyz/10\n",
    "print(hydrogen_optimized_mb.xyz)"
   ]
  },
  {
   "cell_type": "code",
   "execution_count": null,
   "metadata": {},
   "outputs": [],
   "source": [
    "hydrogen_optimized_mb.visualize()"
   ]
  },
  {
   "cell_type": "code",
   "execution_count": null,
   "metadata": {},
   "outputs": [],
   "source": [
    "\n",
    "nitrogen_res_name = 'N2'\n",
    "FF_file_nitrogen = 'dinitrogen_ff.xml'\n",
    "nitrogen_FF = Forcefield(forcefield_files=FF_file_nitrogen)\n",
    "nitrogen_mb = mb.load('N#N', smiles=True)\n",
    "\n",
    "nitrogen_mb.name = nitrogen_res_name\n",
    "\n",
    "nitrogen_typed=nitrogen_FF.apply(nitrogen_mb)\n",
    "\n",
    "\n",
    "\n",
    "constrain_mol = ConstrainedMolecule(nitrogen_typed)\n",
    "constrain_mol.solve()\n",
    "nitrogen_optimized_mb=mb.clone(nitrogen_mb)\n",
    "nitrogen_optimized_mb.xyz=constrain_mol.xyz/10\n",
    "print(nitrogen_optimized_mb.xyz)"
   ]
  },
  {
   "cell_type": "code",
   "execution_count": null,
   "metadata": {},
   "outputs": [],
   "source": [
    "nitrogen_optimized_mb.visualize()"
   ]
  },
  {
   "cell_type": "markdown",
   "metadata": {},
   "source": [
    "## Creating .psf (Topology) and .inp (CHARMM potential file) using mosdef_charmm_writer\n"
   ]
  },
  {
   "cell_type": "code",
   "execution_count": 3,
   "metadata": {},
   "outputs": [
    {
     "name": "stderr",
     "output_type": "stream",
     "text": [
      "/home/rs/anaconda3/envs/cp2k_mc/lib/python3.8/site-packages/ipykernel/ipkernel.py:283: DeprecationWarning: `should_run_async` will not call `transform_cell` automatically in the future. Please pass the result to `transformed_cell` argument and any exception that happen during thetransform in `preprocessing_exc_tuple` in IPython 7.17 and above.\n",
      "  and should_run_async(code)\n"
     ]
    },
    {
     "ename": "NameError",
     "evalue": "name 'hydrogen_optimized_mb' is not defined",
     "output_type": "error",
     "traceback": [
      "\u001b[0;31m---------------------------------------------------------------------------\u001b[0m",
      "\u001b[0;31mNameError\u001b[0m                                 Traceback (most recent call last)",
      "\u001b[0;32m<ipython-input-3-498c817b2a4a>\u001b[0m in \u001b[0;36m<module>\u001b[0;34m\u001b[0m\n\u001b[1;32m      1\u001b[0m \u001b[0;31m#random box to be used in mosdef_charmm_writer\u001b[0m\u001b[0;34m\u001b[0m\u001b[0;34m\u001b[0m\u001b[0;34m\u001b[0m\u001b[0m\n\u001b[0;32m----> 2\u001b[0;31m hydrogen_box_bias  = mb.fill_box(compound=[hydrogen_optimized_mb ],\n\u001b[0m\u001b[1;32m      3\u001b[0m                              \u001b[0mn_compounds\u001b[0m\u001b[0;34m=\u001b[0m\u001b[0;34m[\u001b[0m\u001b[0;36m1\u001b[0m\u001b[0;34m]\u001b[0m \u001b[0;34m,\u001b[0m\u001b[0;34m\u001b[0m\u001b[0;34m\u001b[0m\u001b[0m\n\u001b[1;32m      4\u001b[0m                             box=[1.0, 1.0, 1.0] )\n\u001b[1;32m      5\u001b[0m \u001b[0;34m\u001b[0m\u001b[0m\n",
      "\u001b[0;31mNameError\u001b[0m: name 'hydrogen_optimized_mb' is not defined"
     ]
    }
   ],
   "source": [
    "#random box to be used in mosdef_charmm_writer\n",
    "hydrogen_box_bias  = mb.fill_box(compound=[hydrogen_optimized_mb ],\n",
    "                             n_compounds=[1] ,\n",
    "                            box=[1.0, 1.0, 1.0] )\n",
    "\n",
    "nitrogen_box_bias  = mb.fill_box(compound=[nitrogen_optimized_mb ],\n",
    "                             n_compounds=[1] ,\n",
    "                            box=[1.0, 1.0, 1.0] )"
   ]
  },
  {
   "cell_type": "code",
   "execution_count": null,
   "metadata": {},
   "outputs": [],
   "source": [
    "mixed_box  = mb.fill_box(compound=[hydrogen_optimized_mb, nitrogen_box_bias ],\n",
    "                             n_compounds=[1, 1] ,\n",
    "                            box=[1.0, 1.0, 1.0] )"
   ]
  },
  {
   "cell_type": "code",
   "execution_count": null,
   "metadata": {},
   "outputs": [],
   "source": []
  },
  {
   "cell_type": "code",
   "execution_count": null,
   "metadata": {},
   "outputs": [],
   "source": [
    "FF_Dict = {hydrogen_optimized_mb.name:FF_file_hydrogen, nitrogen_optimized_mb.name:FF_file_nitrogen }\n",
    "\n",
    "residues_List = [hydrogen_optimized_mb.name, nitrogen_optimized_mb.name ]\n",
    "\n",
    "\n",
    "\n",
    "\n",
    "#hydrogen_box_bias.save(\"hydrogen_bias_coord.xyz\",overwrite=True)\n",
    "#nitrogen_box_bias.save(\"nitrogen_bias_coord.xyz\",overwrite=True)\n",
    "\n",
    "print('Running: GOMC FF file, and the psf and pdb files for the biasing potential file')\n",
    "mf_charmm.charmm_psf_psb_FF(mixed_box ,\n",
    "                            'overall_bias',\n",
    "                            FF_filename =\"overall_charmm_bias\" ,\n",
    "                            forcefield_selection = FF_Dict,\n",
    "                            residues= residues_List ,\n",
    "                            bead_to_atom_name_dict = {},\n",
    "                            fix_residue = None,\n",
    "                            reorder_res_in_pdb_psf = False\n",
    "                            )\n",
    "\n",
    "! rm *.pdb *.xyz"
   ]
  },
  {
   "cell_type": "markdown",
   "metadata": {},
   "source": [
    "### Now we have the .psf (topology) file and .inp (charmm potential) file\n",
    "\n",
    "## Creating CP2K MC simulation"
   ]
  },
  {
   "cell_type": "code",
   "execution_count": null,
   "metadata": {},
   "outputs": [],
   "source": [
    "molecule_list=[hydrogen_optimized_mb, nitrogen_optimized_mb]\n",
    "box=mb.box.Box(lengths=[1,1,1])\n",
    "#Comment why pressure is needed\n"
   ]
  },
  {
   "cell_type": "code",
   "execution_count": null,
   "metadata": {},
   "outputs": [],
   "source": [
    "q=MC(molecule_list=molecule_list,n_box=2,n_molecules_each_box=[[2,2],[2,2]], box_list=[box,box],cutoff=200,functional='PBE',\n",
    "     basis_set={'N':'DZVP-MOLOPT-GTH','H':'DZVP-MOLOPT-GTH'}, periodicity=['XYZ']*2,ensemble='GEMC_NPT',seed=1,project_name='NH3_NPT_GEMC',restart='FALSE',pressure=1*u.bar)"
   ]
  },
  {
   "cell_type": "code",
   "execution_count": null,
   "metadata": {},
   "outputs": [],
   "source": []
  },
  {
   "cell_type": "code",
   "execution_count": null,
   "metadata": {},
   "outputs": [],
   "source": [
    "q.mc_initialization()"
   ]
  },
  {
   "cell_type": "code",
   "execution_count": null,
   "metadata": {},
   "outputs": [],
   "source": [
    "\n",
    "q.topology_filename=['hydrogen_bias.psf', 'nitrogen_bias.psf']\n",
    "\n",
    "# move_probabilities=[pmavbmc,pmcltrans,pmhmc,pmswap,pmtraion,pmtrans,pmvolume]\n",
    "#volume moves = PMVOLUME\n",
    "# swap moves = PMSWAP - PMVOLUME\n",
    "# AVBMC moves = PMAVBMC - PMSWAP - PMVOLUME\n",
    "# an “inner” move = 1.0 - (PMAVBMC + PMSWAP + PMVOLUME)\n",
    "#conformational changes = “inner” move percentage × PMTRAION\n",
    "# molecular translation = “inner” move percentage × (PMTRANS - PMTRAION)\n",
    "# molecular rotation = “inner” move percentage × (1.0 - PMTRANS - PMTRAION)\n",
    "\n",
    "q.move_probabilities=[0,0.0,0,0.4,0.5,0.75,0.05]\n",
    "\n",
    "\n",
    "\n",
    "# mol_probabilities=[[PMAVBMC_MOL,PMSWAP_MOL , PMTRAION_MOL, PMTRANS_MOL,PMROT_MOL],[]]\n",
    "q.mol_probabilities=[[[1],[1],[1],[1],[1]],[[1],[1],[1],[1],[1]]]\n",
    "\n",
    "\n",
    "\n",
    "#avbmc probabilities=[[AVBMC_ATOM,AVBMC_RMIN,AVBMC_RMAX,PBIAS],[]]\n",
    "q.avbmc_probabilities=[[[1],[1],[1],[1]],[[1],[1],[1],[1]]]\n",
    "\n",
    "q.charmm_potential_file='overall_charmm_bias.inp'"
   ]
  },
  {
   "cell_type": "code",
   "execution_count": null,
   "metadata": {},
   "outputs": [],
   "source": [
    "setter.mc_files(q)"
   ]
  },
  {
   "cell_type": "code",
   "execution_count": null,
   "metadata": {},
   "outputs": [],
   "source": [
    "!cp2k.popt -i GEMC_NPT_box1.inp -i GEMC_NPT_box2.inp"
   ]
  },
  {
   "cell_type": "code",
   "execution_count": null,
   "metadata": {},
   "outputs": [],
   "source": []
  }
 ],
 "metadata": {
  "kernelspec": {
   "display_name": "Python 3",
   "language": "python",
   "name": "python3"
  },
  "language_info": {
   "codemirror_mode": {
    "name": "ipython",
    "version": 3
   },
   "file_extension": ".py",
   "mimetype": "text/x-python",
   "name": "python",
   "nbconvert_exporter": "python",
   "pygments_lexer": "ipython3",
   "version": "3.8.6"
  }
 },
 "nbformat": 4,
 "nbformat_minor": 4
}
