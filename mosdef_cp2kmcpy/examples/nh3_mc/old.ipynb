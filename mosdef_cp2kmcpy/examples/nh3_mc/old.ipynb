{
 "cells": [
  {
   "cell_type": "code",
   "execution_count": 1,
   "metadata": {},
   "outputs": [
    {
     "name": "stdout",
     "output_type": "stream",
     "text": [
      "/mnt/d/software/cp2k_mc_workflow/testing/nitrogen_mc\r\n"
     ]
    }
   ],
   "source": [
    "!pwd"
   ]
  },
  {
   "cell_type": "code",
   "execution_count": 1,
   "metadata": {},
   "outputs": [
    {
     "name": "stdout",
     "output_type": "stream",
     "text": [
      "/home/rs/anaconda3/envs/cp2k_mc/bin/python\n",
      "/mnt/d/software/MC-workflow/nitrogen-mc/increase_temp/130K\n",
      "['/mnt/d/software/MC-workflow/nitrogen-mc/increase_temp/130K', '/home/rs/anaconda3/envs/cp2k_mc/lib/python38.zip', '/home/rs/anaconda3/envs/cp2k_mc/lib/python3.8', '/home/rs/anaconda3/envs/cp2k_mc/lib/python3.8/lib-dynload', '', '/home/rs/anaconda3/envs/cp2k_mc/lib/python3.8/site-packages', '/mnt/d/software/MC-workflow/mbuild', '/mnt/d/software/MC-workflow/mosdef_cp2k_writer', '/home/rs/anaconda3/envs/cp2k_mc/lib/python3.8/site-packages/IPython/extensions', '/home/rs/.ipython']\n"
     ]
    }
   ],
   "source": [
    "import mbuild as mb\n",
    "import foyer\n",
    "import parmed as pmd\n",
    "import mbuild.formats.charmm_writer as mf_charmm\n",
    "import mosdef_cp2k_writer\n",
    "from constrainmol import ConstrainedMolecule\n",
    "from foyer import Forcefield\n",
    "# doing simulation with hoomd\n",
    "import mdtraj as md\n",
    "import sys\n",
    "print(sys.executable)\n",
    "import os\n",
    "print(os.getcwd())\n",
    "print(sys.path)\n",
    "import gsd.hoomd\n",
    "import matplotlib.pyplot as plt\n",
    "from mbuild.formats.hoomd_simulation import create_hoomd_simulation\n",
    "import hoomd\n",
    "import hoomd.md\n",
    "import hoomd.group\n",
    "import mbuild as mb\n",
    "import foyer\n"
   ]
  },
  {
   "cell_type": "code",
   "execution_count": 2,
   "metadata": {},
   "outputs": [
    {
     "name": "stderr",
     "output_type": "stream",
     "text": [
      "/home/rs/anaconda3/envs/cp2k_mc/lib/python3.8/site-packages/ipykernel/ipkernel.py:283: DeprecationWarning: `should_run_async` will not call `transform_cell` automatically in the future. Please pass the result to `transformed_cell` argument and any exception that happen during thetransform in `preprocessing_exc_tuple` in IPython 7.17 and above.\n",
      "  and should_run_async(code)\n"
     ]
    }
   ],
   "source": [
    "# creating biasing potential file\n",
    "!rm -r trajectories\n",
    "!mkdir trajectories"
   ]
  },
  {
   "cell_type": "code",
   "execution_count": 3,
   "metadata": {},
   "outputs": [
    {
     "name": "stderr",
     "output_type": "stream",
     "text": [
      "/home/rs/anaconda3/envs/cp2k_mc/lib/python3.8/site-packages/ipykernel/ipkernel.py:283: DeprecationWarning: `should_run_async` will not call `transform_cell` automatically in the future. Please pass the result to `transformed_cell` argument and any exception that happen during thetransform in `preprocessing_exc_tuple` in IPython 7.17 and above.\n",
      "  and should_run_async(code)\n",
      "/home/rs/anaconda3/envs/cp2k_mc/lib/python3.8/site-packages/foyer/forcefield.py:448: UserWarning: No force field version number found in force field XML file.\n",
      "  warnings.warn(\n",
      "/home/rs/anaconda3/envs/cp2k_mc/lib/python3.8/site-packages/foyer/forcefield.py:460: UserWarning: No force field name found in force field XML file.\n",
      "  warnings.warn(\n"
     ]
    },
    {
     "name": "stdout",
     "output_type": "stream",
     "text": [
      "[[ 0.09427732 -0.00699514  0.00565158]\n",
      " [ 0.23627732 -0.00699514  0.00565158]]\n"
     ]
    },
    {
     "name": "stderr",
     "output_type": "stream",
     "text": [
      "/mnt/d/software/MC-workflow/mbuild/mbuild/conversion.py:687: UserWarning: No unitcell detected for pybel.Molecule N#N\t\n",
      "\n",
      "  warn(\"No unitcell detected for pybel.Molecule {}\".format(pybel_mol))\n",
      "/home/rs/anaconda3/envs/cp2k_mc/lib/python3.8/site-packages/parmed/openmm/topsystem.py:236: OpenMMWarning: Adding what seems to be Urey-Bradley terms before Angles. This is unexpected, but the parameters will all be present in one form or another.\n",
      "  warnings.warn('Adding what seems to be Urey-Bradley terms before ' # pragma: no cover\n"
     ]
    },
    {
     "name": "stdout",
     "output_type": "stream",
     "text": [
      "[[ 0.10922732 -0.00699514  0.00565158]\n",
      " [ 0.22132732 -0.00699514  0.00565158]]\n"
     ]
    }
   ],
   "source": [
    "T=130\n",
    "ll=1.820963\n",
    "lv=1.827094\n",
    "box1n=57\n",
    "box2n=23\n",
    "nitrogen_res_name = 'N2'\n",
    "FF_file_nitrogen = 'dinitrogen_ff.xml'\n",
    "nitrogen_FF = Forcefield(forcefield_files=FF_file_nitrogen)\n",
    "nitrogen_mb = mb.load('N#N', smiles=True)\n",
    "\n",
    "nitrogen_mb.name = nitrogen_res_name\n",
    "\n",
    "nitrogen_typed=nitrogen_FF.apply(nitrogen_mb)\n",
    "\n",
    "print(nitrogen_mb.xyz)\n",
    "\n",
    "constrain_mol = ConstrainedMolecule(nitrogen_typed)\n",
    "constrain_mol.solve()\n",
    "nitrogen_optimized_mb=mb.clone(nitrogen_mb)\n",
    "nitrogen_optimized_mb.xyz=constrain_mol.xyz/10\n",
    "print(nitrogen_optimized_mb.xyz)"
   ]
  },
  {
   "cell_type": "code",
   "execution_count": 4,
   "metadata": {},
   "outputs": [
    {
     "name": "stderr",
     "output_type": "stream",
     "text": [
      "/home/rs/anaconda3/envs/cp2k_mc/lib/python3.8/site-packages/ipykernel/ipkernel.py:283: DeprecationWarning: `should_run_async` will not call `transform_cell` automatically in the future. Please pass the result to `transformed_cell` argument and any exception that happen during thetransform in `preprocessing_exc_tuple` in IPython 7.17 and above.\n",
      "  and should_run_async(code)\n"
     ]
    }
   ],
   "source": [
    "nitrogen_box_bias  = mb.fill_box(compound=[nitrogen_optimized_mb ],\n",
    "                             n_compounds=[1] ,\n",
    "                            box=[1.0, 1.0, 1.0] )"
   ]
  },
  {
   "cell_type": "code",
   "execution_count": 5,
   "metadata": {},
   "outputs": [
    {
     "name": "stdout",
     "output_type": "stream",
     "text": [
      "Running: GOMC FF file, and the psf and pdb files for the biasing potential file\n",
      "write_gomcdata: forcefield_selection = {'N2': 'dinitrogen_ff.xml'}, residues = ['N2']\n",
      "******************************\n",
      "\n",
      "GOMC FF writing each residues FF as a group for structure_0\n",
      "forcefield type from compound = {'N2': 'dinitrogen_ff.xml'}\n",
      "coulomb14scale from compound = {'N2': 0.0}\n",
      "lj14scale from compound = {'N2': 0.0}\n",
      "unique_types = ['N_N2']\n",
      "No urey bradley terms detected, will use angle_style harmonic\n",
      "******************************\n",
      "\n",
      "writing the GOMC force field file \n",
      "NBFIX_Mixing not used or no mixing used for the non-bonded potentials out\n",
      "forcefield_dict = {0: 'N_N2'}\n",
      "******************************\n",
      "\n",
      "write_charmm_psf file is running\n",
      "write_charmm_psf: forcefield_selection = {'N2': 'dinitrogen_ff.xml'}, residues = ['N2']\n",
      "******************************\n",
      "\n",
      "No urey bradley terms detected\n",
      "******************************\n",
      "\n",
      "write_charmm_pdb file is running\n",
      "write_charmm_pdb: residues == ['N2']\n",
      "fix_residue = None\n",
      "fix_residue_in_box = None\n",
      "bead_to_atom_name_dict = {}\n",
      "INFORMATION: No atoms are fixed in this pdb file for the GOMC simulation engine. \n",
      "******************************\n",
      "\n"
     ]
    },
    {
     "name": "stderr",
     "output_type": "stream",
     "text": [
      "/home/rs/anaconda3/envs/cp2k_mc/lib/python3.8/site-packages/ipykernel/ipkernel.py:283: DeprecationWarning: `should_run_async` will not call `transform_cell` automatically in the future. Please pass the result to `transformed_cell` argument and any exception that happen during thetransform in `preprocessing_exc_tuple` in IPython 7.17 and above.\n",
      "  and should_run_async(code)\n",
      "/home/rs/anaconda3/envs/cp2k_mc/lib/python3.8/site-packages/parmed/openmm/topsystem.py:236: OpenMMWarning: Adding what seems to be Urey-Bradley terms before Angles. This is unexpected, but the parameters will all be present in one form or another.\n",
      "  warnings.warn('Adding what seems to be Urey-Bradley terms before ' # pragma: no cover\n"
     ]
    }
   ],
   "source": [
    "FF_Dict = {nitrogen_mb.name:FF_file_nitrogen }\n",
    "\n",
    "residues_List = [nitrogen_mb.name ]\n",
    "\n",
    "\n",
    "\n",
    "\n",
    "nitrogen_box_bias.save(\"nitrogen_bias_coord.xyz\",overwrite=True)\n",
    "\n",
    "print('Running: GOMC FF file, and the psf and pdb files for the biasing potential file')\n",
    "mf_charmm.charmm_psf_psb_FF(nitrogen_box_bias ,\n",
    "                            'nitrogen_bias',\n",
    "                            FF_filename =\"nitrogen_charmm_bias\" ,\n",
    "                            forcefield_selection = FF_Dict,\n",
    "                            residues= residues_List ,\n",
    "                            bead_to_atom_name_dict = {},\n",
    "                            fix_residue = None,\n",
    "                            reorder_res_in_pdb_psf = False\n",
    "                            )"
   ]
  },
  {
   "cell_type": "code",
   "execution_count": 6,
   "metadata": {},
   "outputs": [
    {
     "name": "stdout",
     "output_type": "stream",
     "text": [
      "Running: filling liquid box\n"
     ]
    },
    {
     "name": "stderr",
     "output_type": "stream",
     "text": [
      "/home/rs/anaconda3/envs/cp2k_mc/lib/python3.8/site-packages/ipykernel/ipkernel.py:283: DeprecationWarning: `should_run_async` will not call `transform_cell` automatically in the future. Please pass the result to `transformed_cell` argument and any exception that happen during thetransform in `preprocessing_exc_tuple` in IPython 7.17 and above.\n",
      "  and should_run_async(code)\n"
     ]
    },
    {
     "name": "stdout",
     "output_type": "stream",
     "text": [
      "Completed: filling liquid box\n",
      "HOOMD-blue 2.9.3 CUDA (11.0) DOUBLE HPMC_MIXED TBB SSE SSE2 SSE3 \n",
      "Compiled: 12/16/2020\n",
      "Copyright (c) 2009-2019 The Regents of the University of Michigan.\n",
      "-----\n",
      "You are using HOOMD-blue. Please cite the following:\n",
      "* J A Anderson, J Glaser, and S C Glotzer. \"HOOMD-blue: A Python package for\n",
      "  high-performance molecular dynamics and hard particle Monte Carlo\n",
      "  simulations\", Computational Materials Science 173 (2020) 109363\n",
      "-----\n",
      "CUDA driver version is insufficient for CUDA runtime version\n",
      "HOOMD-blue is running on the CPU\n",
      "notice(2): Group \"all\" created containing 114 particles\n",
      "notice(2): -- Neighborlist exclusion statistics -- :\n",
      "notice(2): Particles with 1 exclusions             : 114\n",
      "notice(2): Neighbors included by diameter          : no\n",
      "notice(2): Neighbors excluded when in the same body: no\n",
      "Processing LJ and QQ\n",
      "notice(2): Group \"charged\" created containing 0 particles\n",
      "No charged groups found, ignoring electrostatics\n",
      "Processing harmonic bonds\n",
      "HOOMD SimulationContext updated from ParmEd Structure\n",
      "** starting run **\n"
     ]
    },
    {
     "name": "stderr",
     "output_type": "stream",
     "text": [
      "/home/rs/anaconda3/envs/cp2k_mc/lib/python3.8/site-packages/parmed/openmm/topsystem.py:236: OpenMMWarning: Adding what seems to be Urey-Bradley terms before Angles. This is unexpected, but the parameters will all be present in one form or another.\n",
      "  warnings.warn('Adding what seems to be Urey-Bradley terms before ' # pragma: no cover\n"
     ]
    },
    {
     "name": "stdout",
     "output_type": "stream",
     "text": [
      "Time 00:00:10 | Step 2501 / 10001 | TPS 246.586 | ETA 00:00:30\n",
      "Time 00:00:14 | Step 10001 / 10001 | TPS 1854.96 | ETA 00:00:00\n",
      "Average TPS: 704.949\n",
      "---------\n",
      "-- Neighborlist stats:\n",
      "0 normal updates / 101 forced updates / 0 dangerous updates\n",
      "n_neigh_min: 0 / n_neigh_max: 2 / n_neigh_avg: 0.184211\n",
      "shortest rebuild period: 100\n",
      "-- Cell list stats:\n",
      "Dimension: 11, 11, 11\n",
      "n_min    : 0 / n_max: 2 / n_avg: 0.0856499\n",
      "** run complete **\n",
      "** starting run **\n",
      "Time 00:00:14 | Step 20001 / 20001 | TPS 73077 | ETA 00:00:00\n",
      "Average TPS: 72523.2\n",
      "---------\n",
      "-- Neighborlist stats:\n",
      "0 normal updates / 100 forced updates / 0 dangerous updates\n",
      "n_neigh_min: 0 / n_neigh_max: 1 / n_neigh_avg: 0.0526316\n",
      "shortest rebuild period: 100\n",
      "-- Cell list stats:\n",
      "Dimension: 11, 11, 11\n",
      "n_min    : 0 / n_max: 2 / n_avg: 0.0856499\n",
      "** run complete **\n"
     ]
    },
    {
     "data": {
      "text/plain": [
       "<bound method _integration_method.disable of <hoomd.md.integrate.nvt object at 0x7fde8824a730>>"
      ]
     },
     "execution_count": 6,
     "metadata": {},
     "output_type": "execute_result"
    }
   ],
   "source": [
    "print('Running: filling liquid box')\n",
    "\n",
    "box = mb.box.Box([ll, ll, ll])\n",
    "\n",
    "box_sparse=mb.box.Box([ll*10 ,ll*10, ll*10])\n",
    "nitrogen_box_liq  = mb.fill_box(compound=[nitrogen_optimized_mb  ],\n",
    "                            n_compounds=box1n ,\n",
    "                            box=box_sparse)\n",
    "print('Completed: filling liquid box')\n",
    "nitrogen_box_liq_pmd=nitrogen_box_liq.to_parmed(box=box_sparse)\n",
    "\n",
    "dinitrogen_ff = foyer.Forcefield(forcefield_files='dinitrogen_ff.xml')\n",
    "\n",
    "struc = dinitrogen_ff.apply(nitrogen_box_liq_pmd,assert_bond_params=True,\n",
    "                 assert_angle_params=True,\n",
    "                 assert_dihedral_params=False)\n",
    "for i in range(len(struc.atoms)):\n",
    "\n",
    "    struc.atoms[i].type=struc.atoms[i].element_name\n",
    "    struc.atoms[i].atom_type.name=struc.atoms[i].element_name\n",
    "\n",
    "    \n",
    "create_hoomd_simulation(struc,r_cut=1.2,auto_scale=False,ref_distance=1)\n",
    "_all = hoomd.group.all()\n",
    "hoomd.md.integrate.mode_standard(dt=0.0001)\n",
    "integrator = hoomd.md.integrate.nvt(group=_all, kT= 0.00831446*T, tau=1)\n",
    "hoomd.dump.gsd(\"trajectories/start-shrink.gsd\", period=None, group=_all, overwrite=True)\n",
    "hoomd.dump.gsd(\"trajectories/traj-shrink.gsd\", period=1e5, group=_all, phase=0, overwrite=True)\n",
    "\n",
    "integrator.randomize_velocities(seed=42);\n",
    "\n",
    "resize=hoomd.update.box_resize(L = hoomd.variant.linear_interp([(0,ll*100), (1e4,ll*10)], zero=0));\n",
    "\n",
    "\n",
    "hoomd.run(1e4+1)\n",
    "resize.disable()\n",
    "\n",
    "hoomd.analyze.log(filename=\"log-output_nvt.log\",\n",
    "                  quantities=['kinetic_energy','potential_energy','temperature','pressure','lx','ly','lz'],\n",
    "                  period=100,\n",
    "                  overwrite=True);\n",
    "\n",
    "hoomd.dump.gsd(\"trajectories/traj-nvtmd.gsd\", period=1e3, group=_all, phase=0, overwrite=True)\n",
    "\n",
    "hoomd.run(1e4)\n",
    "\n",
    "gsd_restart = hoomd.dump.gsd(\"trajectories/out-shrink.gsd\", period=None, group=_all, overwrite=True);\n",
    "gsd_restart.write_restart()\n",
    "integrator.disable"
   ]
  },
  {
   "cell_type": "code",
   "execution_count": 7,
   "metadata": {},
   "outputs": [
    {
     "name": "stdout",
     "output_type": "stream",
     "text": [
      "10\n"
     ]
    },
    {
     "name": "stderr",
     "output_type": "stream",
     "text": [
      "/home/rs/anaconda3/envs/cp2k_mc/lib/python3.8/site-packages/ipykernel/ipkernel.py:283: DeprecationWarning: `should_run_async` will not call `transform_cell` automatically in the future. Please pass the result to `transformed_cell` argument and any exception that happen during thetransform in `preprocessing_exc_tuple` in IPython 7.17 and above.\n",
      "  and should_run_async(code)\n"
     ]
    }
   ],
   "source": [
    "import MDAnalysis as mda\n",
    "u = mda.Universe(\"trajectories/traj-nvtmd.gsd\")\n",
    "print(len(u.trajectory))\n",
    "u.trajectory[-1]\n",
    "N = u.select_atoms(\"name N\", updating=True)\n",
    "N.write(\"nitrogen_box_liq.xyz\")\n"
   ]
  },
  {
   "cell_type": "code",
   "execution_count": 8,
   "metadata": {},
   "outputs": [
    {
     "name": "stderr",
     "output_type": "stream",
     "text": [
      "/home/rs/anaconda3/envs/cp2k_mc/lib/python3.8/site-packages/ipykernel/ipkernel.py:283: DeprecationWarning: `should_run_async` will not call `transform_cell` automatically in the future. Please pass the result to `transformed_cell` argument and any exception that happen during thetransform in `preprocessing_exc_tuple` in IPython 7.17 and above.\n",
      "  and should_run_async(code)\n"
     ]
    }
   ],
   "source": [
    "#run the vap box file"
   ]
  },
  {
   "cell_type": "code",
   "execution_count": null,
   "metadata": {},
   "outputs": [],
   "source": []
  },
  {
   "cell_type": "code",
   "execution_count": null,
   "metadata": {},
   "outputs": [],
   "source": []
  },
  {
   "cell_type": "code",
   "execution_count": null,
   "metadata": {},
   "outputs": [],
   "source": []
  },
  {
   "cell_type": "code",
   "execution_count": null,
   "metadata": {},
   "outputs": [],
   "source": []
  },
  {
   "cell_type": "code",
   "execution_count": 9,
   "metadata": {},
   "outputs": [
    {
     "name": "stderr",
     "output_type": "stream",
     "text": [
      "/home/rs/anaconda3/envs/cp2k_mc/lib/python3.8/site-packages/ipykernel/ipkernel.py:283: DeprecationWarning: `should_run_async` will not call `transform_cell` automatically in the future. Please pass the result to `transformed_cell` argument and any exception that happen during thetransform in `preprocessing_exc_tuple` in IPython 7.17 and above.\n",
      "  and should_run_async(code)\n"
     ]
    }
   ],
   "source": [
    "#creating bias_template.inp file\n",
    "\n",
    "from mosdef_cp2k_writer.classes import SIM as sim\n",
    "\n",
    "mySim = sim.SIM()\n",
    "mySim.GLOBAL.RUN_TYPE = \"MC\"\n",
    "mySim.GLOBAL.PROJECT_NAME=\"bias_template\"\n",
    "mySim.GLOBAL.PRINT_LEVEL=\"LOW\"\n",
    "\n",
    "mySim.MOTION.MC.ENSEMBLE=\"TRADITIONAL\"\n",
    "mySim.MOTION.MC.TEMPERATURE =T\n",
    "mySim.MOTION.MC.PRESSURE= 13.8\n",
    "mySim.MOTION.MC.IPRINT= 1\n",
    "mySim.MOTION.MC.LBIAS='TRUE'\n",
    "mySim.MOTION.MC.LSTOP='FALSE'\n",
    "mySim.MOTION.MC.NMOVES=8\n",
    "mySim.MOTION.MC.NSWAPMOVES =640\n",
    "mySim.MOTION.MC.NSTEP= 1\n",
    "mySim.MOTION.MC.RESTART='FALSE'\n",
    "\n",
    "mySim.MOTION.MC.ETA= 0.0\n",
    "mySim.MOTION.MC.MOVE_PROBABILITIES.PMSWAP= 0.0\n",
    "mySim.MOTION.MC.MOVE_PROBABILITIES.PMTRAION= 0.20\n",
    "mySim.MOTION.MC.MOVE_PROBABILITIES.PMTRANS= 0.60\n",
    "mySim.MOTION.MC.MOVE_PROBABILITIES.PMVOLUME= 0.02\n",
    "mySim.MOTION.MC.MOVE_PROBABILITIES.PMHMC= 0.0\n",
    "mySim.MOTION.MC.MOVE_PROBABILITIES.PMAVBMC= 0.0\n",
    "mySim.MOTION.MC.MOVE_PROBABILITIES.MOL_PROBABILITIES.PMAVBMC_MOL=[1]\n",
    "mySim.MOTION.MC.MOVE_PROBABILITIES.MOL_PROBABILITIES.PMSWAP_MOL =[1.0]\n",
    "mySim.MOTION.MC.MOVE_PROBABILITIES.MOL_PROBABILITIES.PMTRAION_MOL= [1.0]\n",
    "mySim.MOTION.MC.MOVE_PROBABILITIES.MOL_PROBABILITIES.PMTRANS_MOL= [1.0]\n",
    "mySim.MOTION.MC.MOVE_PROBABILITIES.MOL_PROBABILITIES.PMROT_MOL =[1.0]\n",
    "mySim.MOTION.MC.MOVE_PROBABILITIES.BOX_PROBABILITIES.PMVOL_BOX =1.0\n",
    "mySim.MOTION.MC.MOVE_PROBABILITIES.BOX_PROBABILITIES.PMHMC_BOX= 1.0\n",
    "mySim.MOTION.MC.MOVE_UPDATES.IUPTRANS =100\n",
    "mySim.MOTION.MC.MOVE_UPDATES.IUPVOLUME= 100\n",
    "mySim.MOTION.MC.MAX_DISPLACEMENTS.MOL_DISPLACEMENTS.RMDIHEDRAL= [3.0]\n",
    "mySim.MOTION.MC.MAX_DISPLACEMENTS.MOL_DISPLACEMENTS.RMANGLE= [3.0]\n",
    "mySim.MOTION.MC.MAX_DISPLACEMENTS.MOL_DISPLACEMENTS.RMBOND =[0.074]\n",
    "mySim.MOTION.MC.MAX_DISPLACEMENTS.MOL_DISPLACEMENTS.RMROT =[26.0]\n",
    "mySim.MOTION.MC.MAX_DISPLACEMENTS.MOL_DISPLACEMENTS.RMTRANS=[ 0.38]\n",
    "mySim.MOTION.MC.MAX_DISPLACEMENTS.BOX_DISPLACEMENTS.RMVOLUME =100.5\n",
    "mySim.MOTION.MC.AVBMC.AVBMC_ATOM =[1]\n",
    "mySim.MOTION.MC.AVBMC.AVBMC_RMIN =[1.0]\n",
    "mySim.MOTION.MC.AVBMC.AVBMC_RMAX =[5.0]\n",
    "mySim.MOTION.MC.AVBMC.PBIAS= [0.5]\n",
    "\n",
    "mySim.FORCE_EVAL.METHOD=\"FIST\"\n",
    "mySim.FORCE_EVAL.MM.FORCEFIELD.PARMTYPE=\"CHM\"\n",
    "mySim.FORCE_EVAL.MM.FORCEFIELD.PARM_FILE_NAME=\"nitrogen_charmm_bias.inp\"\n",
    "mySim.FORCE_EVAL.MM.FORCEFIELD.SPLINE.EMAX_SPLINE=10000 \n",
    "mySim.FORCE_EVAL.MM.POISSON.EWALD.EWALD_TYPE=\"EWALD\"\n",
    "mySim.FORCE_EVAL.MM.POISSON.EWALD.EWALD_ACCURACY=1e-6\n",
    "mySim.FORCE_EVAL.MM.POISSON.EWALD.GMAX=25\n",
    "\n",
    "mySim.FORCE_EVAL.SUBSYS.CELL.ABC=\"10 10 10\"\n",
    "mySim.FORCE_EVAL.SUBSYS.CELL.PERIODIC=\"XYZ\"\n",
    "mySim.FORCE_EVAL.SUBSYS.CELL.SYMMETRY=\"CUBIC\"\n",
    "mySim.FORCE_EVAL.SUBSYS.COORD.DEFAULT_KEYWORD=\"nitrogen_bias_coord.xyz\"\n",
    "mySim.FORCE_EVAL.SUBSYS.TOPOLOGY.CONN_FILE_FORMAT=\"MOL_SET\"\n",
    "mySim.FORCE_EVAL.SUBSYS.TOPOLOGY.MOL_SET.init_molecules(1)\n",
    "mySim.FORCE_EVAL.SUBSYS.TOPOLOGY.MOL_SET.MOLECULE[1].NMOL=box1n\n",
    "mySim.FORCE_EVAL.SUBSYS.TOPOLOGY.MOL_SET.MOLECULE[1].CONN_FILE_NAME=\"nitrogen_bias.psf\"\n",
    "mySim.write_changeLog(fn=\"changeLog.out\")\n",
    "mySim.write_errorLog()\n",
    "mySim.write_inputFile(fn='bias_template.inp')\n"
   ]
  },
  {
   "cell_type": "code",
   "execution_count": 10,
   "metadata": {},
   "outputs": [
    {
     "name": "stdout",
     "output_type": "stream",
     "text": [
      "&FORCE_EVAL\r\n",
      "  METHOD        FIST\r\n",
      "  &MM        \r\n",
      "    &FORCEFIELD        \r\n",
      "      PARM_FILE_NAME        nitrogen_charmm_bias.inp\r\n",
      "      PARMTYPE        CHM\r\n",
      "      &SPLINE        \r\n",
      "        EMAX_SPLINE        10000\r\n",
      "      &END SPLINE        \r\n",
      "    &END FORCEFIELD        \r\n",
      "    &POISSON       \r\n",
      "      &EWALD        \r\n",
      "        EWALD_ACCURACY        1e-06\r\n",
      "        EWALD_TYPE        EWALD\r\n",
      "        GMAX        25\r\n",
      "      &END EWALD        \r\n",
      "    &END POISSON        \r\n",
      "  &END MM        \r\n",
      "  &DFT        \r\n",
      "    &MGRID        \r\n",
      "    &END MGRID        \r\n",
      "    &QS        \r\n",
      "    &END QS        \r\n",
      "    &POISSON        \r\n",
      "      &EWALD        \r\n",
      "      &END EWALD        \r\n",
      "    &END POISSON        \r\n",
      "    &PRINT         \r\n",
      "    &END PRINT        \r\n",
      "    &SCF        \r\n",
      "    &END SCF        \r\n",
      "    &XC        \r\n",
      "      &VDW_POTENTIAL        \r\n",
      "        &PAIR_POTENTIAL        \r\n",
      "        &END PAIR_POTENTIAL        \r\n",
      "      &END VDW_POTENTIAL        \r\n",
      "      &XC_GRID        \r\n",
      "      &END XC_GRID        \r\n",
      "    &END XC        \r\n",
      "  &END DFT        \r\n",
      "  &SUBSYS        \r\n",
      "    &CELL        \r\n",
      "      ABC       10 10 10\r\n",
      "      PERIODIC       XYZ\r\n",
      "      SYMMETRY       CUBIC\r\n",
      "    &END CELL        \r\n",
      "    &COORD        \r\n",
      "      @INCLUDE       nitrogen_bias_coord.xyz\r\n",
      "    &END COORD        \r\n",
      "    &TOPOLOGY        \r\n",
      "      CONN_FILE_FORMAT       MOL_SET\r\n",
      "      &MOL_SET       \r\n",
      "        &MOLECULE       \r\n",
      "          CONN_FILE_NAME       nitrogen_bias.psf\r\n",
      "          NMOL       57\r\n",
      "        &END MOLECULE       \r\n",
      "      &END MOL_SET       \r\n",
      "    &END TOPOLOGY       \r\n",
      "  &END SUBSYS        \r\n",
      "&END FORCE_EVAL        \r\n",
      "&GLOBAL\r\n",
      "  RUN_TYPE     MC\r\n",
      "  PROJECT      bias_template\r\n",
      "  PRINT_LEVEL  LOW\r\n",
      "&END GLOBAL\r\n",
      "&MOTION\r\n",
      "  &MC\r\n",
      "    &AVBMC\r\n",
      "      AVBMC_ATOM        1\r\n",
      "      AVBMC_RMAX        5.0\r\n",
      "      AVBMC_RMIN        1.0\r\n",
      "      PBIAS        0.5\r\n",
      "    &END AVBMC\r\n",
      "    &MAX_DISPLACEMENTS\r\n",
      "      &BOX_DISPLACEMENTS\r\n",
      "        RMVOLUME        100.5\r\n",
      "      &END BOX_DISPLACEMENTS\r\n",
      "      &MOL_DISPLACEMENTS\r\n",
      "        RMANGLE        3.0\r\n",
      "        RMBOND        0.074\r\n",
      "        RMDIHEDRAL        3.0\r\n",
      "        RMROT        26.0\r\n",
      "        RMTRANS        0.38\r\n",
      "      &END MOL_DISPLACEMENTS\r\n",
      "    &END MAX_DISPLACEMENTS\r\n",
      "    &MOVE_PROBABILITIES\r\n",
      "      &BOX_PROBABILITIES\r\n",
      "        PMHMC_BOX        1.0\r\n",
      "        PMVOL_BOX        1.0\r\n",
      "      &END BOX_PROBABILITIES\r\n",
      "      &MOL_PROBABILITIES\r\n",
      "        PMAVBMC_MOL        1\r\n",
      "        PMROT_MOL        1.0\r\n",
      "        PMSWAP_MOL        1.0\r\n",
      "        PMTRAION_MOL        1.0\r\n",
      "        PMTRANS_MOL        1.0\r\n",
      "      &END MOL_PROBABILITIES\r\n",
      "      PMAVBMC        0.0\r\n",
      "      PMHMC        0.0\r\n",
      "      PMSWAP        0.0\r\n",
      "      PMTRAION        0.2\r\n",
      "      PMTRANS        0.6\r\n",
      "      PMVOLUME        0.02\r\n",
      "    &END MOVE_PROBABILITIES\r\n",
      "    &MOVE_UPDATES\r\n",
      "      IUPTRANS        100\r\n",
      "      IUPVOLUME        100\r\n",
      "    &END MOVE_UPDATES\r\n",
      "    ENSEMBLE        TRADITIONAL\r\n",
      "    ETA        0.0\r\n",
      "    IPRINT        1\r\n",
      "    LBIAS        TRUE\r\n",
      "    LSTOP        FALSE\r\n",
      "    NMOVES        8\r\n",
      "    NSTEP        1\r\n",
      "    NSWAPMOVES        640\r\n",
      "    PRESSURE        13.8\r\n",
      "    RESTART        FALSE\r\n",
      "    TEMPERATURE        130\r\n",
      "  &END MC\r\n",
      "  &MD\r\n",
      "    &THERMOSTAT       \r\n",
      "    &END THERMOSTAT       \r\n",
      "    &AVERAGES       \r\n",
      "    &END AVERAGES       \r\n",
      "    &PRINT       \r\n",
      "      &ENERGY       \r\n",
      "        &EACH       \r\n",
      "        &END EACH       \r\n",
      "      &END ENERGY       \r\n",
      "      &PROGRAM_RUN_INFO       \r\n",
      "        &EACH       \r\n",
      "        &END EACH       \r\n",
      "      &END PROGRAM_RUN_INFO     \r\n",
      "    &END PRINT       \r\n",
      "  &END MD\r\n",
      " \r\n",
      "  &CONSTRAINT\r\n",
      "    &FIXED_ATOMS      \r\n",
      "    &END FIXED_ATOMS       \r\n",
      "  &END CONSTRAINT\r\n",
      " \r\n",
      "  &PRINT \r\n",
      "  &END PRINT \r\n",
      "  &GEO_OPT \r\n",
      "  &END GEO_OPT \r\n",
      "&END MOTION \r\n"
     ]
    },
    {
     "name": "stderr",
     "output_type": "stream",
     "text": [
      "/home/rs/anaconda3/envs/cp2k_mc/lib/python3.8/site-packages/ipykernel/ipkernel.py:283: DeprecationWarning: `should_run_async` will not call `transform_cell` automatically in the future. Please pass the result to `transformed_cell` argument and any exception that happen during thetransform in `preprocessing_exc_tuple` in IPython 7.17 and above.\n",
      "  and should_run_async(code)\n"
     ]
    }
   ],
   "source": [
    "!cat bias_template.inp\n"
   ]
  },
  {
   "cell_type": "code",
   "execution_count": null,
   "metadata": {},
   "outputs": [],
   "source": []
  },
  {
   "cell_type": "code",
   "execution_count": 11,
   "metadata": {},
   "outputs": [
    {
     "name": "stderr",
     "output_type": "stream",
     "text": [
      "/home/rs/anaconda3/envs/cp2k_mc/lib/python3.8/site-packages/ipykernel/ipkernel.py:283: DeprecationWarning: `should_run_async` will not call `transform_cell` automatically in the future. Please pass the result to `transformed_cell` argument and any exception that happen during thetransform in `preprocessing_exc_tuple` in IPython 7.17 and above.\n",
      "  and should_run_async(code)\n"
     ]
    }
   ],
   "source": [
    "#creating first box input file\n",
    "\n",
    "from mosdef_cp2k_writer.classes import SIM as sim\n",
    "\n",
    "mySim = sim.SIM()\n",
    "mySim.GLOBAL.RUN_TYPE = \"MC\"\n",
    "mySim.GLOBAL.PROJECT_NAME=\"N2_MC\"\n",
    "mySim.GLOBAL.PRINT_LEVEL=\"LOW\"\n",
    "\n",
    "mySim.MOTION.MC.ENSEMBLE=\"GEMC_NVT\"\n",
    "mySim.MOTION.MC.TEMPERATURE =T\n",
    "mySim.MOTION.MC.PRESSURE= 1.013\n",
    "mySim.MOTION.MC.IPRINT= 1\n",
    "mySim.MOTION.MC.LBIAS='TRUE'\n",
    "mySim.MOTION.MC.LSTOP='FALSE'\n",
    "mySim.MOTION.MC.NMOVES=8\n",
    "mySim.MOTION.MC.NSWAPMOVES =640\n",
    "mySim.MOTION.MC.NSTEP= 120\n",
    "mySim.MOTION.MC.RESTART='FALSE'\n",
    "mySim.MOTION.MC.BOX2_FILE_NAME=\"GEMC_NVT_box2.inp\"\n",
    "mySim.MOTION.MC.RESTART_FILE_NAME=\"mc_restart_1\"\n",
    "\n",
    "mySim.MOTION.MC.ETA= 0.0\n",
    "#mySim.MOTION.MC.VIRIAL_TEMPS=300\n",
    "\n",
    "mySim.MOTION.MC.MOVE_PROBABILITIES.PMSWAP= 0.4\n",
    "mySim.MOTION.MC.MOVE_PROBABILITIES.PMTRAION= 0.50\n",
    "mySim.MOTION.MC.MOVE_PROBABILITIES.PMTRANS= 0.750\n",
    "mySim.MOTION.MC.MOVE_PROBABILITIES.PMVOLUME= 0.05\n",
    "mySim.MOTION.MC.MOVE_PROBABILITIES.PMHMC= 0.0\n",
    "mySim.MOTION.MC.MOVE_PROBABILITIES.PMAVBMC= 0.0\n",
    "mySim.MOTION.MC.MOVE_PROBABILITIES.MOL_PROBABILITIES.PMAVBMC_MOL=[1]\n",
    "mySim.MOTION.MC.MOVE_PROBABILITIES.MOL_PROBABILITIES.PMSWAP_MOL =[1.0]\n",
    "mySim.MOTION.MC.MOVE_PROBABILITIES.MOL_PROBABILITIES.PMTRAION_MOL= [1.0]\n",
    "mySim.MOTION.MC.MOVE_PROBABILITIES.MOL_PROBABILITIES.PMTRANS_MOL= [1.0]\n",
    "mySim.MOTION.MC.MOVE_PROBABILITIES.MOL_PROBABILITIES.PMROT_MOL =[1.0]\n",
    "mySim.MOTION.MC.MOVE_PROBABILITIES.BOX_PROBABILITIES.PMVOL_BOX =1.0\n",
    "mySim.MOTION.MC.MOVE_PROBABILITIES.BOX_PROBABILITIES.PMHMC_BOX= 1.0\n",
    "mySim.MOTION.MC.MOVE_UPDATES.IUPTRANS =20\n",
    "mySim.MOTION.MC.MOVE_UPDATES.IUPVOLUME= 20\n",
    "mySim.MOTION.MC.MAX_DISPLACEMENTS.MOL_DISPLACEMENTS.RMDIHEDRAL= [3.0]\n",
    "mySim.MOTION.MC.MAX_DISPLACEMENTS.MOL_DISPLACEMENTS.RMANGLE= [3.0]\n",
    "mySim.MOTION.MC.MAX_DISPLACEMENTS.MOL_DISPLACEMENTS.RMBOND =[0.074]\n",
    "mySim.MOTION.MC.MAX_DISPLACEMENTS.MOL_DISPLACEMENTS.RMROT =[26.0]\n",
    "mySim.MOTION.MC.MAX_DISPLACEMENTS.MOL_DISPLACEMENTS.RMTRANS=[ 0.38]\n",
    "mySim.MOTION.MC.MAX_DISPLACEMENTS.BOX_DISPLACEMENTS.RMVOLUME =100.5\n",
    "mySim.MOTION.MC.AVBMC.AVBMC_ATOM =[1]\n",
    "mySim.MOTION.MC.AVBMC.AVBMC_RMIN =[1.0]\n",
    "mySim.MOTION.MC.AVBMC.AVBMC_RMAX =[5.0]\n",
    "mySim.MOTION.MC.AVBMC.PBIAS= [0.5]\n",
    "\n",
    "mySim.FORCE_EVAL.METHOD=\"Quickstep\"\n",
    "mySim.FORCE_EVAL.DFT.BASIS_SET_FILE_NAME=\"BASIS_MOLOPT\"\n",
    "mySim.FORCE_EVAL.DFT.POTENTIAL_FILE_NAME=\"GTH_POTENTIALS\"\n",
    "mySim.FORCE_EVAL.DFT.MGRID.CUTOFF=600\n",
    "mySim.FORCE_EVAL.DFT.MGRID.REL_CUTOFF=60\n",
    "mySim.FORCE_EVAL.DFT.SCF.SCF_GUESS=\"RESTART\"\n",
    "mySim.FORCE_EVAL.DFT.SCF.MAX_SCF=20\n",
    "mySim.FORCE_EVAL.DFT.SCF.EPS_SCF=1e-5\n",
    "mySim.FORCE_EVAL.DFT.SCF.OT.SECTION_PARAMETERS='.TRUE.'\n",
    "mySim.FORCE_EVAL.DFT.SCF.OT.MINIMIZER=\"DIIS\"\n",
    "mySim.FORCE_EVAL.DFT.SCF.OT.PRECONDITIONER =\"FULL_SINGLE_INVERSE\"\n",
    "\n",
    "mySim.FORCE_EVAL.DFT.XC.XC_FUNCTIONAL.SECTION_PARAMETERS=\"PBE\"\n",
    "mySim.FORCE_EVAL.DFT.XC.VDW_POTENTIAL.POTENTIAL_TYPE=\"PAIR_POTENTIAL\"\n",
    "mySim.FORCE_EVAL.DFT.XC.VDW_POTENTIAL.PAIR_POTENTIAL.R_CUTOFF=16\n",
    "mySim.FORCE_EVAL.DFT.XC.VDW_POTENTIAL.PAIR_POTENTIAL.TYPE=\"DFTD3\"\n",
    "mySim.FORCE_EVAL.DFT.XC.VDW_POTENTIAL.PAIR_POTENTIAL.CALCULATE_C9_TERM =\".TRUE.\"\n",
    "mySim.FORCE_EVAL.DFT.XC.VDW_POTENTIAL.PAIR_POTENTIAL.REFERENCE_C9_TERM =\".TRUE.\"\n",
    "mySim.FORCE_EVAL.DFT.XC.VDW_POTENTIAL.PAIR_POTENTIAL.LONG_RANGE_CORRECTION =\".TRUE.\"\n",
    "mySim.FORCE_EVAL.DFT.XC.VDW_POTENTIAL.PAIR_POTENTIAL.REFERENCE_FUNCTIONAL=\"PBE\"\n",
    "\n",
    "mySim.FORCE_EVAL.DFT.XC.VDW_POTENTIAL.PAIR_POTENTIAL.PARAMETER_FILE_NAME =\"dftd3.dat\"\n",
    "mySim.FORCE_EVAL.DFT.XC.VDW_POTENTIAL.PAIR_POTENTIAL.EPS_CN =1e-6\n",
    "mySim.FORCE_EVAL.DFT.XC.XC_GRID.XC_DERIV=\"SPLINE2\"\n",
    "mySim.FORCE_EVAL.DFT.XC.XC_GRID.XC_SMOOTH_RHO=\"NONE\"\n",
    "\n",
    "\n",
    "mySim.FORCE_EVAL.SUBSYS.CELL.ABC=\"{} {} {} \".format(ll*10,ll*10,ll*10)\n",
    "mySim.FORCE_EVAL.SUBSYS.CELL.CELL_REF.ABC=\"{} {} {} \".format(ll*10,ll*10,ll*10)\n",
    "mySim.FORCE_EVAL.SUBSYS.CELL.PERIODIC=\"XYZ\"\n",
    "mySim.FORCE_EVAL.SUBSYS.CELL.SYMMETRY=\"CUBIC\"\n",
    "mySim.FORCE_EVAL.SUBSYS.COORD.DEFAULT_KEYWORD=\"nitrogen_box_liq.xyz\"\n",
    "mySim.FORCE_EVAL.SUBSYS.init_atoms(1)\n",
    "mySim.FORCE_EVAL.SUBSYS.KIND[1].SECTION_PARAMETERS=\"N\"\n",
    "mySim.FORCE_EVAL.SUBSYS.KIND[1].BASIS_SET=\"DZVP-MOLOPT-SR-GTH\"\n",
    "mySim.FORCE_EVAL.SUBSYS.KIND[1].POTENTIAL=\"GTH-PBE\"\n",
    "\n",
    "\n",
    "mySim.FORCE_EVAL.SUBSYS.TOPOLOGY.CONN_FILE_FORMAT=\"MOL_SET\"\n",
    "mySim.FORCE_EVAL.SUBSYS.TOPOLOGY.MOL_SET.init_molecules(1)\n",
    "mySim.FORCE_EVAL.SUBSYS.TOPOLOGY.MOL_SET.MOLECULE[1].NMOL=box1n\n",
    "mySim.FORCE_EVAL.SUBSYS.TOPOLOGY.MOL_SET.MOLECULE[1].CONN_FILE_NAME=\"nitrogen_bias.psf\"\n",
    "\n",
    "mySim.write_changeLog(fn=\"changeLog.out\")\n",
    "mySim.write_errorLog()\n",
    "mySim.write_inputFile(fn='GEMC_NVT_box1.inp')\n"
   ]
  },
  {
   "cell_type": "code",
   "execution_count": null,
   "metadata": {},
   "outputs": [],
   "source": []
  },
  {
   "cell_type": "code",
   "execution_count": 12,
   "metadata": {},
   "outputs": [
    {
     "name": "stderr",
     "output_type": "stream",
     "text": [
      "/home/rs/anaconda3/envs/cp2k_mc/lib/python3.8/site-packages/ipykernel/ipkernel.py:283: DeprecationWarning: `should_run_async` will not call `transform_cell` automatically in the future. Please pass the result to `transformed_cell` argument and any exception that happen during thetransform in `preprocessing_exc_tuple` in IPython 7.17 and above.\n",
      "  and should_run_async(code)\n"
     ]
    }
   ],
   "source": [
    "#creating second box input file\n",
    "\n",
    "from mosdef_cp2k_writer.classes import SIM as sim\n",
    "\n",
    "mySim = sim.SIM()\n",
    "mySim.GLOBAL.RUN_TYPE = \"MC\"\n",
    "mySim.GLOBAL.PROJECT_NAME=\"N2_MC\"\n",
    "mySim.GLOBAL.PRINT_LEVEL=\"LOW\"\n",
    "\n",
    "mySim.MOTION.MC.ENSEMBLE=\"GEMC_NVT\"\n",
    "mySim.MOTION.MC.TEMPERATURE =T\n",
    "mySim.MOTION.MC.PRESSURE= 1.013\n",
    "mySim.MOTION.MC.IPRINT= 1\n",
    "mySim.MOTION.MC.LBIAS='TRUE'\n",
    "mySim.MOTION.MC.LSTOP='FALSE'\n",
    "mySim.MOTION.MC.NMOVES=8\n",
    "mySim.MOTION.MC.NSWAPMOVES =640\n",
    "mySim.MOTION.MC.NSTEP= 120\n",
    "mySim.MOTION.MC.RESTART='FALSE'\n",
    "mySim.MOTION.MC.BOX2_FILE_NAME=\"GEMC_NVT_box1.inp\"\n",
    "mySim.MOTION.MC.RESTART_FILE_NAME=\"mc_restart_2\"\n",
    "\n",
    "mySim.MOTION.MC.ETA= 0.0\n",
    "#mySim.MOTION.MC.VIRIAL_TEMPS=300\n",
    "\n",
    "mySim.MOTION.MC.MOVE_PROBABILITIES.PMSWAP= 0.4\n",
    "mySim.MOTION.MC.MOVE_PROBABILITIES.PMTRAION= 0.50\n",
    "mySim.MOTION.MC.MOVE_PROBABILITIES.PMTRANS= 0.750\n",
    "mySim.MOTION.MC.MOVE_PROBABILITIES.PMVOLUME= 0.05\n",
    "mySim.MOTION.MC.MOVE_PROBABILITIES.PMHMC= 0.0\n",
    "mySim.MOTION.MC.MOVE_PROBABILITIES.PMAVBMC= 0.0\n",
    "mySim.MOTION.MC.MOVE_PROBABILITIES.MOL_PROBABILITIES.PMAVBMC_MOL=[1]\n",
    "mySim.MOTION.MC.MOVE_PROBABILITIES.MOL_PROBABILITIES.PMSWAP_MOL =[1.0]\n",
    "mySim.MOTION.MC.MOVE_PROBABILITIES.MOL_PROBABILITIES.PMTRAION_MOL= [1.0]\n",
    "mySim.MOTION.MC.MOVE_PROBABILITIES.MOL_PROBABILITIES.PMTRANS_MOL= [1.0]\n",
    "mySim.MOTION.MC.MOVE_PROBABILITIES.MOL_PROBABILITIES.PMROT_MOL =[1.0]\n",
    "mySim.MOTION.MC.MOVE_PROBABILITIES.BOX_PROBABILITIES.PMVOL_BOX =1.0\n",
    "mySim.MOTION.MC.MOVE_PROBABILITIES.BOX_PROBABILITIES.PMHMC_BOX= 1.0\n",
    "mySim.MOTION.MC.MOVE_UPDATES.IUPTRANS =20\n",
    "mySim.MOTION.MC.MOVE_UPDATES.IUPVOLUME= 20\n",
    "mySim.MOTION.MC.MAX_DISPLACEMENTS.MOL_DISPLACEMENTS.RMDIHEDRAL= [3.0]\n",
    "mySim.MOTION.MC.MAX_DISPLACEMENTS.MOL_DISPLACEMENTS.RMANGLE= [3.0]\n",
    "mySim.MOTION.MC.MAX_DISPLACEMENTS.MOL_DISPLACEMENTS.RMBOND =[0.074]\n",
    "mySim.MOTION.MC.MAX_DISPLACEMENTS.MOL_DISPLACEMENTS.RMROT =[26.0]\n",
    "mySim.MOTION.MC.MAX_DISPLACEMENTS.MOL_DISPLACEMENTS.RMTRANS=[ 0.38]\n",
    "mySim.MOTION.MC.MAX_DISPLACEMENTS.BOX_DISPLACEMENTS.RMVOLUME =100.5\n",
    "mySim.MOTION.MC.AVBMC.AVBMC_ATOM =[1]\n",
    "mySim.MOTION.MC.AVBMC.AVBMC_RMIN =[1.0]\n",
    "mySim.MOTION.MC.AVBMC.AVBMC_RMAX =[5.0]\n",
    "mySim.MOTION.MC.AVBMC.PBIAS= [0.5]\n",
    "\n",
    "mySim.FORCE_EVAL.METHOD=\"Quickstep\"\n",
    "mySim.FORCE_EVAL.DFT.BASIS_SET_FILE_NAME=\"BASIS_MOLOPT\"\n",
    "mySim.FORCE_EVAL.DFT.POTENTIAL_FILE_NAME=\"GTH_POTENTIALS\"\n",
    "mySim.FORCE_EVAL.DFT.MGRID.CUTOFF=600\n",
    "mySim.FORCE_EVAL.DFT.MGRID.REL_CUTOFF=60\n",
    "mySim.FORCE_EVAL.DFT.SCF.SCF_GUESS=\"RESTART\"\n",
    "mySim.FORCE_EVAL.DFT.SCF.MAX_SCF=20\n",
    "mySim.FORCE_EVAL.DFT.SCF.EPS_SCF=1e-5\n",
    "mySim.FORCE_EVAL.DFT.SCF.OT.SECTION_PARAMETERS='.TRUE.'\n",
    "mySim.FORCE_EVAL.DFT.SCF.OT.MINIMIZER=\"DIIS\"\n",
    "mySim.FORCE_EVAL.DFT.SCF.OT.PRECONDITIONER =\"FULL_SINGLE_INVERSE\"\n",
    "\n",
    "mySim.FORCE_EVAL.DFT.XC.XC_FUNCTIONAL.SECTION_PARAMETERS=\"PBE\"\n",
    "mySim.FORCE_EVAL.DFT.XC.VDW_POTENTIAL.POTENTIAL_TYPE=\"PAIR_POTENTIAL\"\n",
    "mySim.FORCE_EVAL.DFT.XC.VDW_POTENTIAL.PAIR_POTENTIAL.R_CUTOFF=16\n",
    "mySim.FORCE_EVAL.DFT.XC.VDW_POTENTIAL.PAIR_POTENTIAL.TYPE=\"DFTD3\"\n",
    "mySim.FORCE_EVAL.DFT.XC.VDW_POTENTIAL.PAIR_POTENTIAL.CALCULATE_C9_TERM =\".TRUE.\"\n",
    "mySim.FORCE_EVAL.DFT.XC.VDW_POTENTIAL.PAIR_POTENTIAL.REFERENCE_C9_TERM =\".TRUE.\"\n",
    "mySim.FORCE_EVAL.DFT.XC.VDW_POTENTIAL.PAIR_POTENTIAL.LONG_RANGE_CORRECTION =\".TRUE.\"\n",
    "mySim.FORCE_EVAL.DFT.XC.VDW_POTENTIAL.PAIR_POTENTIAL.REFERENCE_FUNCTIONAL=\"PBE\"\n",
    "\n",
    "mySim.FORCE_EVAL.DFT.XC.VDW_POTENTIAL.PAIR_POTENTIAL.PARAMETER_FILE_NAME =\"dftd3.dat\"\n",
    "mySim.FORCE_EVAL.DFT.XC.VDW_POTENTIAL.PAIR_POTENTIAL.EPS_CN =1e-6\n",
    "mySim.FORCE_EVAL.DFT.XC.XC_GRID.XC_DERIV=\"SPLINE2\"\n",
    "mySim.FORCE_EVAL.DFT.XC.XC_GRID.XC_SMOOTH_RHO=\"NONE\"\n",
    "\n",
    "\n",
    "mySim.FORCE_EVAL.SUBSYS.CELL.ABC=\"{} {} {} \".format(lv*10,lv*10,lv*10)\n",
    "mySim.FORCE_EVAL.SUBSYS.CELL.CELL_REF.ABC=\"{} {} {} \".format(lv*10,lv*10,lv*10)\n",
    "mySim.FORCE_EVAL.SUBSYS.CELL.PERIODIC=\"XYZ\"\n",
    "mySim.FORCE_EVAL.SUBSYS.CELL.SYMMETRY=\"CUBIC\"\n",
    "mySim.FORCE_EVAL.SUBSYS.COORD.DEFAULT_KEYWORD=\"nitrogen_box_vap.xyz\"\n",
    "mySim.FORCE_EVAL.SUBSYS.init_atoms(1)\n",
    "mySim.FORCE_EVAL.SUBSYS.KIND[1].SECTION_PARAMETERS=\"N\"\n",
    "mySim.FORCE_EVAL.SUBSYS.KIND[1].BASIS_SET=\"DZVP-MOLOPT-SR-GTH\"\n",
    "mySim.FORCE_EVAL.SUBSYS.KIND[1].POTENTIAL=\"GTH-PBE\"\n",
    "\n",
    "\n",
    "mySim.FORCE_EVAL.SUBSYS.TOPOLOGY.CONN_FILE_FORMAT=\"MOL_SET\"\n",
    "mySim.FORCE_EVAL.SUBSYS.TOPOLOGY.MOL_SET.init_molecules(1)\n",
    "mySim.FORCE_EVAL.SUBSYS.TOPOLOGY.MOL_SET.MOLECULE[1].NMOL=box2n\n",
    "mySim.FORCE_EVAL.SUBSYS.TOPOLOGY.MOL_SET.MOLECULE[1].CONN_FILE_NAME=\"nitrogen_bias.psf\"\n",
    "mySim.write_changeLog(fn=\"changeLog.out\")\n",
    "mySim.write_errorLog()\n",
    "mySim.write_inputFile(fn='GEMC_NVT_box2.inp')\n"
   ]
  },
  {
   "cell_type": "code",
   "execution_count": 13,
   "metadata": {
    "scrolled": true
   },
   "outputs": [
    {
     "name": "stderr",
     "output_type": "stream",
     "text": [
      "/home/rs/anaconda3/envs/cp2k_mc/lib/python3.8/site-packages/ipykernel/ipkernel.py:283: DeprecationWarning: `should_run_async` will not call `transform_cell` automatically in the future. Please pass the result to `transformed_cell` argument and any exception that happen during thetransform in `preprocessing_exc_tuple` in IPython 7.17 and above.\n",
      "  and should_run_async(code)\n"
     ]
    }
   ],
   "source": [
    "#remove first two lines\n",
    "with open('nitrogen_bias_coord.xyz', 'r') as fin:\n",
    "    data = fin.read().splitlines(True)\n",
    "with open('nitrogen_bias_coord.xyz', 'w') as fout:\n",
    "    fout.writelines(data[2:])\n",
    "\n",
    "    \n",
    "    #remove first two lines\n",
    "with open('nitrogen_box_liq.xyz', 'r') as fin:\n",
    "    data = fin.read().splitlines(True)\n",
    "with open('nitrogen_box_liq.xyz', 'w') as fout:\n",
    "    fout.writelines(data[2:])\n",
    "    \n",
    "    \n",
    "#remove first two lines\n",
    "with open('nitrogen_box_vap.xyz', 'r') as fin:\n",
    "    data = fin.read().splitlines(True)\n",
    "with open('nitrogen_box_vap.xyz', 'w') as fout:\n",
    "    fout.writelines(data[2:])\n",
    "    \n",
    "\n",
    "    \n",
    "\n",
    "\n",
    "    \n",
    "\n",
    "\n",
    "\n",
    "    "
   ]
  },
  {
   "cell_type": "code",
   "execution_count": null,
   "metadata": {},
   "outputs": [],
   "source": [
    "!cp2k.popt -i  GEMC_NVT_box1.inp -i GEMC_NVT_box2.inp"
   ]
  },
  {
   "cell_type": "code",
   "execution_count": null,
   "metadata": {},
   "outputs": [],
   "source": []
  },
  {
   "cell_type": "code",
   "execution_count": null,
   "metadata": {},
   "outputs": [],
   "source": [
    "\n"
   ]
  },
  {
   "cell_type": "code",
   "execution_count": null,
   "metadata": {},
   "outputs": [],
   "source": [
    "nitrogen_box_liq_85K"
   ]
  },
  {
   "cell_type": "code",
   "execution_count": null,
   "metadata": {},
   "outputs": [],
   "source": [
    "\n",
    "nitrogen_box_vap = mb.fill_box(compound=[nitrogen_optimized_mb],\n",
    "                            n_compounds=box2n ,\n",
    "                            box=[lv,lv,lv])\n",
    "print('Completed: filling vapor box')\n",
    "nitrogen_box_vap.save(\"nitrogen_box_vap.xyz\",overwrite=True)\n",
    "print('Running: GOMC FF file, and the psf and pdb files for 85 K box')\n",
    "mf_charmm.charmm_psf_psb_FF(nitrogen_box_liq ,\n",
    "                            'nitrogen_box_liq',\n",
    "                            structure_1 = nitrogen_box_vap  ,\n",
    "                            filename_1 = 'nitrogen_box_vap',\n",
    "                            FF_filename =\"nitrogen_charmm\" ,\n",
    "                            forcefield_selection = FF_Dict,\n",
    "                            residues= residues_List ,\n",
    "                            Bead_to_atom_name_dict = None,\n",
    "                            fix_residue = None,\n",
    "                            reorder_res_in_pdb_psf = False\n",
    "                            )\n",
    "print('Completed: GOMC FF file, and the psf and pdb files for 85 K box')"
   ]
  },
  {
   "cell_type": "code",
   "execution_count": null,
   "metadata": {},
   "outputs": [],
   "source": []
  }
 ],
 "metadata": {
  "kernelspec": {
   "display_name": "Python 3",
   "language": "python",
   "name": "python3"
  },
  "language_info": {
   "codemirror_mode": {
    "name": "ipython",
    "version": 3
   },
   "file_extension": ".py",
   "mimetype": "text/x-python",
   "name": "python",
   "nbconvert_exporter": "python",
   "pygments_lexer": "ipython3",
   "version": "3.8.6"
  }
 },
 "nbformat": 4,
 "nbformat_minor": 4
}
